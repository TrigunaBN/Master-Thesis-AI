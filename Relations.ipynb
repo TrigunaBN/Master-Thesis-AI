{
 "cells": [
  {
   "cell_type": "code",
   "execution_count": 1,
   "metadata": {},
   "outputs": [],
   "source": [
    "import pandas as pd\n",
    "import numpy as np\n",
    "import matplotlib.pyplot as plt\n",
    "import matplotlib.image as mpimg\n",
    "import seaborn as sns\n",
    "import csv"
   ]
  },
  {
   "cell_type": "code",
   "execution_count": 2,
   "metadata": {},
   "outputs": [],
   "source": [
    "#To remove warnings\n",
    "pd.options.mode.chained_assignment = None  # default='warn' "
   ]
  },
  {
   "cell_type": "markdown",
   "metadata": {},
   "source": [
    "# Summary\n",
    "\n",
    "The main purpose of this notebook is to construct PARTNER x RELATION (RELTYPE) matrix using but050.csv & but051.csv. <br>\n",
    "BUT050 contains the relationships between business partners (… is partner of …,  ... is child of..., etc).  <br> \n",
    "BUT051 contains contact person relationship: indicates what contact persons exist with for which organisation. <br>\n",
    "A business partner can have multiple relations with many business partners (BUT050) including organizations (BUT051). <br>\n",
    "\n",
    "The PARTNER x RELATION (RELTYPE) matrix can be used as features for classifying donors who donates only once to Leuven University Fund (LUF) and donors who donates more than once to LUF. <br>\n",
    "\n",
    "BUT050 table contains both One-way relationship as well as Two-way relationship. <br>\n",
    "The main features for BUT050 table are: <br>\n",
    "-  PARTNER1: The source business partner\n",
    "-  PARTNER2: The target business partner\n",
    "-  RELTYPE: The type of relation between PARTNER1 & PARTNER2 <br>"
   ]
  },
  {
   "cell_type": "markdown",
   "metadata": {},
   "source": [
    "The relationships used in BUT050 table is shown below. This is stored in TBZ9A table. <br>\n",
    "<img src=\"Images/Relations_tab1.png\">"
   ]
  },
  {
   "cell_type": "markdown",
   "metadata": {},
   "source": [
    "For the relationship types were the column ‘one way relationship’ indicates ‘Y’, the direction plays a role in the interpretation. <br>\n",
    "<img src=\"Images/Relations_tab2.png\">"
   ]
  },
  {
   "cell_type": "markdown",
   "metadata": {},
   "source": [
    "If for instance, in BUT050 there is an entry:<br>\n",
    "<img src=\"Images/Relations_tab3.png\">\n",
    "Then this means that PA is the parent of PB.<br>\n",
    "\n",
    "Two way relations such as BUR023, BUR998, and Z00018 are normalized. Now all the relations between the business partners is One way. <br>\n",
    "\n",
    "<br><br>BUT051 table contains only One-way relationship. <br>\n",
    "There are only 2 features used in this table:\n",
    "-  PARTNER1: Partner id of an organization.\n",
    "-  PARTNER2: Partner id of a person."
   ]
  },
  {
   "cell_type": "markdown",
   "metadata": {},
   "source": [
    "The relation is read as PARTNER2 '… is contact person of …' PARTNER1. <br>\n",
    "A business partner can be a contact person of multiple organizations. <br>\n",
    "An organization can have multiple contact persons to LUF. <br>"
   ]
  },
  {
   "cell_type": "code",
   "execution_count": 3,
   "metadata": {},
   "outputs": [
    {
     "name": "stdout",
     "output_type": "stream",
     "text": [
      "(43435, 5)\n"
     ]
    },
    {
     "data": {
      "text/html": [
       "<div>\n",
       "<style scoped>\n",
       "    .dataframe tbody tr th:only-of-type {\n",
       "        vertical-align: middle;\n",
       "    }\n",
       "\n",
       "    .dataframe tbody tr th {\n",
       "        vertical-align: top;\n",
       "    }\n",
       "\n",
       "    .dataframe thead th {\n",
       "        text-align: right;\n",
       "    }\n",
       "</style>\n",
       "<table border=\"1\" class=\"dataframe\">\n",
       "  <thead>\n",
       "    <tr style=\"text-align: right;\">\n",
       "      <th></th>\n",
       "      <th>DATE_FROM</th>\n",
       "      <th>DATE_TO</th>\n",
       "      <th>PARTNER1</th>\n",
       "      <th>PARTNER2</th>\n",
       "      <th>RELTYP</th>\n",
       "    </tr>\n",
       "  </thead>\n",
       "  <tbody>\n",
       "    <tr>\n",
       "      <th>0</th>\n",
       "      <td>1960.07.04</td>\n",
       "      <td>9999.12.31</td>\n",
       "      <td>0200025600</td>\n",
       "      <td>0200325734</td>\n",
       "      <td>REL_BUR021</td>\n",
       "    </tr>\n",
       "    <tr>\n",
       "      <th>1</th>\n",
       "      <td>1970.03.26</td>\n",
       "      <td>9999.12.31</td>\n",
       "      <td>0200025600</td>\n",
       "      <td>0200356884</td>\n",
       "      <td>REL_BUR021</td>\n",
       "    </tr>\n",
       "    <tr>\n",
       "      <th>2</th>\n",
       "      <td>1964.05.05</td>\n",
       "      <td>9999.12.31</td>\n",
       "      <td>0200025600</td>\n",
       "      <td>0200736210</td>\n",
       "      <td>REL_BUR021</td>\n",
       "    </tr>\n",
       "    <tr>\n",
       "      <th>3</th>\n",
       "      <td>0001.01.01</td>\n",
       "      <td>9999.12.31</td>\n",
       "      <td>0200000002</td>\n",
       "      <td>0200063069</td>\n",
       "      <td>REL_BUR011</td>\n",
       "    </tr>\n",
       "    <tr>\n",
       "      <th>4</th>\n",
       "      <td>0001.01.01</td>\n",
       "      <td>9999.12.31</td>\n",
       "      <td>0200000013</td>\n",
       "      <td>0200295958</td>\n",
       "      <td>REL_BUR011</td>\n",
       "    </tr>\n",
       "  </tbody>\n",
       "</table>\n",
       "</div>"
      ],
      "text/plain": [
       "    DATE_FROM     DATE_TO    PARTNER1    PARTNER2      RELTYP\n",
       "0  1960.07.04  9999.12.31  0200025600  0200325734  REL_BUR021\n",
       "1  1970.03.26  9999.12.31  0200025600  0200356884  REL_BUR021\n",
       "2  1964.05.05  9999.12.31  0200025600  0200736210  REL_BUR021\n",
       "3  0001.01.01  9999.12.31  0200000002  0200063069  REL_BUR011\n",
       "4  0001.01.01  9999.12.31  0200000013  0200295958  REL_BUR011"
      ]
     },
     "execution_count": 3,
     "metadata": {},
     "output_type": "execute_result"
    }
   ],
   "source": [
    "but050 = pd.read_csv('sqldata/20190102_BUT050.csv',dtype = str, encoding='latin-1',sep=';')\n",
    "but050['RELTYP'] = 'REL_' + but050['RELTYP']#Just to distinguish with RLTYP from but100\n",
    "print(but050.shape)\n",
    "but050.head()"
   ]
  },
  {
   "cell_type": "markdown",
   "metadata": {},
   "source": [
    "We do not consider DATE_FROM and DATE_TO attribute. The reason is for some relations eg, BUR998 (Partner Relationship) the relationship is added to the database at the time of data migrations from the previous database. One such data migration happened in 2016.03.04. The results which is shown below gives a reason why it is not a good idea to consider 'DATE_FROM' and 'DATE_TO' attributes while generating features for the classifier. <br>\n",
    "Another reason is 526 DATE_FROM have values '0001.01.01' which is clearly a faulty value."
   ]
  },
  {
   "cell_type": "code",
   "execution_count": 4,
   "metadata": {},
   "outputs": [
    {
     "data": {
      "text/plain": [
       "2009.10.09    13767\n",
       "2016.03.04    10091\n",
       "2009.10.10     7461\n",
       "2011.02.16     1307\n",
       "2009.11.01     1025\n",
       "0001.01.01      526\n",
       "Name: DATE_FROM, dtype: int64"
      ]
     },
     "execution_count": 4,
     "metadata": {},
     "output_type": "execute_result"
    }
   ],
   "source": [
    "but050['DATE_FROM'].value_counts()[:6]"
   ]
  },
  {
   "cell_type": "code",
   "execution_count": 5,
   "metadata": {},
   "outputs": [
    {
     "data": {
      "text/html": [
       "<div>\n",
       "<style scoped>\n",
       "    .dataframe tbody tr th:only-of-type {\n",
       "        vertical-align: middle;\n",
       "    }\n",
       "\n",
       "    .dataframe tbody tr th {\n",
       "        vertical-align: top;\n",
       "    }\n",
       "\n",
       "    .dataframe thead th {\n",
       "        text-align: right;\n",
       "    }\n",
       "</style>\n",
       "<table border=\"1\" class=\"dataframe\">\n",
       "  <thead>\n",
       "    <tr style=\"text-align: right;\">\n",
       "      <th></th>\n",
       "      <th>DATE_FROM</th>\n",
       "      <th>DATE_TO</th>\n",
       "      <th>PARTNER1</th>\n",
       "      <th>PARTNER2</th>\n",
       "      <th>RELTYP</th>\n",
       "    </tr>\n",
       "  </thead>\n",
       "  <tbody>\n",
       "    <tr>\n",
       "      <th>8</th>\n",
       "      <td>2016.03.04</td>\n",
       "      <td>9999.12.31</td>\n",
       "      <td>0200000131</td>\n",
       "      <td>0201068139</td>\n",
       "      <td>REL_BUR998</td>\n",
       "    </tr>\n",
       "    <tr>\n",
       "      <th>15</th>\n",
       "      <td>2016.03.04</td>\n",
       "      <td>9999.12.31</td>\n",
       "      <td>0200000165</td>\n",
       "      <td>0201073391</td>\n",
       "      <td>REL_BUR998</td>\n",
       "    </tr>\n",
       "    <tr>\n",
       "      <th>17</th>\n",
       "      <td>2016.03.04</td>\n",
       "      <td>9999.12.31</td>\n",
       "      <td>0200000192</td>\n",
       "      <td>0201070861</td>\n",
       "      <td>REL_BUR998</td>\n",
       "    </tr>\n",
       "    <tr>\n",
       "      <th>23</th>\n",
       "      <td>2016.03.04</td>\n",
       "      <td>9999.12.31</td>\n",
       "      <td>0200000331</td>\n",
       "      <td>0201068158</td>\n",
       "      <td>REL_BUR998</td>\n",
       "    </tr>\n",
       "    <tr>\n",
       "      <th>26</th>\n",
       "      <td>2016.03.04</td>\n",
       "      <td>9999.12.31</td>\n",
       "      <td>0200000370</td>\n",
       "      <td>0201066118</td>\n",
       "      <td>REL_BUR998</td>\n",
       "    </tr>\n",
       "  </tbody>\n",
       "</table>\n",
       "</div>"
      ],
      "text/plain": [
       "     DATE_FROM     DATE_TO    PARTNER1    PARTNER2      RELTYP\n",
       "8   2016.03.04  9999.12.31  0200000131  0201068139  REL_BUR998\n",
       "15  2016.03.04  9999.12.31  0200000165  0201073391  REL_BUR998\n",
       "17  2016.03.04  9999.12.31  0200000192  0201070861  REL_BUR998\n",
       "23  2016.03.04  9999.12.31  0200000331  0201068158  REL_BUR998\n",
       "26  2016.03.04  9999.12.31  0200000370  0201066118  REL_BUR998"
      ]
     },
     "execution_count": 5,
     "metadata": {},
     "output_type": "execute_result"
    }
   ],
   "source": [
    "but050[but050['DATE_FROM']=='2016.03.04'].head()"
   ]
  },
  {
   "cell_type": "code",
   "execution_count": 6,
   "metadata": {},
   "outputs": [
    {
     "data": {
      "text/plain": [
       "REL_Z00001    26474\n",
       "REL_BUR998    14645\n",
       "REL_BUR021     1739\n",
       "REL_BUR011      202\n",
       "REL_Z00018      196\n",
       "Name: RELTYP, dtype: int64"
      ]
     },
     "execution_count": 6,
     "metadata": {},
     "output_type": "execute_result"
    }
   ],
   "source": [
    "but050['RELTYP'].value_counts()[:5]"
   ]
  },
  {
   "cell_type": "markdown",
   "metadata": {},
   "source": [
    "Most popular relationship in the database is 'REL_Z00001' which represents Partner 1 is a Member of Alumni circle (Partner 2). <br>\n",
    "Let us see how many differnt alumni circles are there in the University."
   ]
  },
  {
   "cell_type": "code",
   "execution_count": 7,
   "metadata": {},
   "outputs": [
    {
     "name": "stdout",
     "output_type": "stream",
     "text": [
      "Total number of members in all Alumni Circles: 16150\n",
      "Number of Alumni Circles: 121\n"
     ]
    }
   ],
   "source": [
    "print('Total number of members in all Alumni Circles: '+ str(len(set(but050['PARTNER1'][but050['RELTYP']=='REL_Z00001']))))\n",
    "print('Number of Alumni Circles: '+ str(len(set(but050['PARTNER2'][but050['RELTYP']=='REL_Z00001']))))"
   ]
  },
  {
   "cell_type": "code",
   "execution_count": 8,
   "metadata": {},
   "outputs": [
    {
     "name": "stdout",
     "output_type": "stream",
     "text": [
      "(8726, 2)\n"
     ]
    },
    {
     "data": {
      "text/html": [
       "<div>\n",
       "<style scoped>\n",
       "    .dataframe tbody tr th:only-of-type {\n",
       "        vertical-align: middle;\n",
       "    }\n",
       "\n",
       "    .dataframe tbody tr th {\n",
       "        vertical-align: top;\n",
       "    }\n",
       "\n",
       "    .dataframe thead th {\n",
       "        text-align: right;\n",
       "    }\n",
       "</style>\n",
       "<table border=\"1\" class=\"dataframe\">\n",
       "  <thead>\n",
       "    <tr style=\"text-align: right;\">\n",
       "      <th></th>\n",
       "      <th>PARTNER1</th>\n",
       "      <th>PARTNER2</th>\n",
       "    </tr>\n",
       "  </thead>\n",
       "  <tbody>\n",
       "    <tr>\n",
       "      <th>0</th>\n",
       "      <td>0201079167</td>\n",
       "      <td>0200006547</td>\n",
       "    </tr>\n",
       "    <tr>\n",
       "      <th>1</th>\n",
       "      <td>0201086231</td>\n",
       "      <td>0200007792</td>\n",
       "    </tr>\n",
       "    <tr>\n",
       "      <th>2</th>\n",
       "      <td>0200514562</td>\n",
       "      <td>0200014200</td>\n",
       "    </tr>\n",
       "    <tr>\n",
       "      <th>3</th>\n",
       "      <td>0201275282</td>\n",
       "      <td>0200038784</td>\n",
       "    </tr>\n",
       "    <tr>\n",
       "      <th>4</th>\n",
       "      <td>0201083814</td>\n",
       "      <td>0200056992</td>\n",
       "    </tr>\n",
       "  </tbody>\n",
       "</table>\n",
       "</div>"
      ],
      "text/plain": [
       "     PARTNER1    PARTNER2\n",
       "0  0201079167  0200006547\n",
       "1  0201086231  0200007792\n",
       "2  0200514562  0200014200\n",
       "3  0201275282  0200038784\n",
       "4  0201083814  0200056992"
      ]
     },
     "execution_count": 8,
     "metadata": {},
     "output_type": "execute_result"
    }
   ],
   "source": [
    "but051 = pd.read_csv('sqldata/20190102_BUT051.csv',dtype = str, encoding='latin-1',sep=';')\n",
    "print(but051.shape)\n",
    "but051.head()"
   ]
  },
  {
   "cell_type": "markdown",
   "metadata": {},
   "source": [
    "Let us check how many different organizations donate to LUF and how many contact persons there are for these organizations."
   ]
  },
  {
   "cell_type": "code",
   "execution_count": 9,
   "metadata": {},
   "outputs": [
    {
     "name": "stdout",
     "output_type": "stream",
     "text": [
      "Number of Organizations: 7035\n",
      "Number of Contact Persons: 8464\n"
     ]
    }
   ],
   "source": [
    "print('Number of Organizations: '+str(len(set(but051['PARTNER1']))))\n",
    "print('Number of Contact Persons: '+str(len(set(but051['PARTNER2']))))"
   ]
  },
  {
   "cell_type": "code",
   "execution_count": 10,
   "metadata": {},
   "outputs": [
    {
     "data": {
      "text/html": [
       "<div>\n",
       "<style scoped>\n",
       "    .dataframe tbody tr th:only-of-type {\n",
       "        vertical-align: middle;\n",
       "    }\n",
       "\n",
       "    .dataframe tbody tr th {\n",
       "        vertical-align: top;\n",
       "    }\n",
       "\n",
       "    .dataframe thead th {\n",
       "        text-align: right;\n",
       "    }\n",
       "</style>\n",
       "<table border=\"1\" class=\"dataframe\">\n",
       "  <thead>\n",
       "    <tr style=\"text-align: right;\">\n",
       "      <th></th>\n",
       "      <th>RELTYP</th>\n",
       "      <th>RTITL</th>\n",
       "    </tr>\n",
       "  </thead>\n",
       "  <tbody>\n",
       "    <tr>\n",
       "      <th>0</th>\n",
       "      <td>Z00001</td>\n",
       "      <td>Member of alumni circle</td>\n",
       "    </tr>\n",
       "    <tr>\n",
       "      <th>1</th>\n",
       "      <td>Z00016</td>\n",
       "      <td>IO Contact</td>\n",
       "    </tr>\n",
       "    <tr>\n",
       "      <th>2</th>\n",
       "      <td>Z00017</td>\n",
       "      <td>Is trusted person of</td>\n",
       "    </tr>\n",
       "    <tr>\n",
       "      <th>3</th>\n",
       "      <td>Z00019</td>\n",
       "      <td>Has contactperson in LUF</td>\n",
       "    </tr>\n",
       "    <tr>\n",
       "      <th>4</th>\n",
       "      <td>ZSECR</td>\n",
       "      <td>Secretary Relationship</td>\n",
       "    </tr>\n",
       "    <tr>\n",
       "      <th>5</th>\n",
       "      <td>BUR998</td>\n",
       "      <td>Partner Relationship</td>\n",
       "    </tr>\n",
       "    <tr>\n",
       "      <th>6</th>\n",
       "      <td>BUR001</td>\n",
       "      <td>Contact Person Rel.ship</td>\n",
       "    </tr>\n",
       "    <tr>\n",
       "      <th>7</th>\n",
       "      <td>BUR011</td>\n",
       "      <td>Responsible Employee</td>\n",
       "    </tr>\n",
       "    <tr>\n",
       "      <th>8</th>\n",
       "      <td>BUR021</td>\n",
       "      <td>Parent-Child Relationship</td>\n",
       "    </tr>\n",
       "    <tr>\n",
       "      <th>9</th>\n",
       "      <td>BUR022</td>\n",
       "      <td>Guardian Relationship</td>\n",
       "    </tr>\n",
       "    <tr>\n",
       "      <th>10</th>\n",
       "      <td>BUR023</td>\n",
       "      <td>Relationship</td>\n",
       "    </tr>\n",
       "    <tr>\n",
       "      <th>11</th>\n",
       "      <td>Z00018</td>\n",
       "      <td>Brother/Sister Relation</td>\n",
       "    </tr>\n",
       "  </tbody>\n",
       "</table>\n",
       "</div>"
      ],
      "text/plain": [
       "    RELTYP                      RTITL\n",
       "0   Z00001    Member of alumni circle\n",
       "1   Z00016                 IO Contact\n",
       "2   Z00017       Is trusted person of\n",
       "3   Z00019   Has contactperson in LUF\n",
       "4    ZSECR     Secretary Relationship\n",
       "5   BUR998       Partner Relationship\n",
       "6   BUR001    Contact Person Rel.ship\n",
       "7   BUR011       Responsible Employee\n",
       "8   BUR021  Parent-Child Relationship\n",
       "9   BUR022      Guardian Relationship\n",
       "10  BUR023               Relationship\n",
       "11  Z00018    Brother/Sister Relation"
      ]
     },
     "execution_count": 10,
     "metadata": {},
     "output_type": "execute_result"
    }
   ],
   "source": [
    "#Description of RELTYP\n",
    "tbz9a = pd.read_csv('sqldata/20190102_TBZ9A.csv',dtype = str, encoding='latin-1',sep=';')\n",
    "relation_des = tbz9a[['RELTYP','RTITL']][tbz9a['SPRAS']=='E']\n",
    "relation_des.reset_index(drop=True,inplace=True)\n",
    "relation_des #2 extra RELTYP are present in table namely 'BUR022' (Guardian Relationship) & 'BUR001' (Contact Person Rel.ship)"
   ]
  },
  {
   "cell_type": "code",
   "execution_count": 11,
   "metadata": {},
   "outputs": [
    {
     "name": "stdout",
     "output_type": "stream",
     "text": [
      "(43435, 3)\n"
     ]
    },
    {
     "data": {
      "text/html": [
       "<div>\n",
       "<style scoped>\n",
       "    .dataframe tbody tr th:only-of-type {\n",
       "        vertical-align: middle;\n",
       "    }\n",
       "\n",
       "    .dataframe tbody tr th {\n",
       "        vertical-align: top;\n",
       "    }\n",
       "\n",
       "    .dataframe thead th {\n",
       "        text-align: right;\n",
       "    }\n",
       "</style>\n",
       "<table border=\"1\" class=\"dataframe\">\n",
       "  <thead>\n",
       "    <tr style=\"text-align: right;\">\n",
       "      <th></th>\n",
       "      <th>PARTNER1</th>\n",
       "      <th>PARTNER2</th>\n",
       "      <th>RELTYP</th>\n",
       "    </tr>\n",
       "  </thead>\n",
       "  <tbody>\n",
       "    <tr>\n",
       "      <th>0</th>\n",
       "      <td>0200025600</td>\n",
       "      <td>0200325734</td>\n",
       "      <td>REL_BUR021</td>\n",
       "    </tr>\n",
       "    <tr>\n",
       "      <th>1</th>\n",
       "      <td>0200025600</td>\n",
       "      <td>0200356884</td>\n",
       "      <td>REL_BUR021</td>\n",
       "    </tr>\n",
       "    <tr>\n",
       "      <th>2</th>\n",
       "      <td>0200025600</td>\n",
       "      <td>0200736210</td>\n",
       "      <td>REL_BUR021</td>\n",
       "    </tr>\n",
       "    <tr>\n",
       "      <th>3</th>\n",
       "      <td>0200000002</td>\n",
       "      <td>0200063069</td>\n",
       "      <td>REL_BUR011</td>\n",
       "    </tr>\n",
       "    <tr>\n",
       "      <th>4</th>\n",
       "      <td>0200000013</td>\n",
       "      <td>0200295958</td>\n",
       "      <td>REL_BUR011</td>\n",
       "    </tr>\n",
       "  </tbody>\n",
       "</table>\n",
       "</div>"
      ],
      "text/plain": [
       "     PARTNER1    PARTNER2      RELTYP\n",
       "0  0200025600  0200325734  REL_BUR021\n",
       "1  0200025600  0200356884  REL_BUR021\n",
       "2  0200025600  0200736210  REL_BUR021\n",
       "3  0200000002  0200063069  REL_BUR011\n",
       "4  0200000013  0200295958  REL_BUR011"
      ]
     },
     "execution_count": 11,
     "metadata": {},
     "output_type": "execute_result"
    }
   ],
   "source": [
    "but050 = but050[['PARTNER1','PARTNER2','RELTYP']]\n",
    "print(but050.shape)\n",
    "but050.head()"
   ]
  },
  {
   "cell_type": "code",
   "execution_count": 12,
   "metadata": {},
   "outputs": [
    {
     "name": "stdout",
     "output_type": "stream",
     "text": [
      "(8726, 3)\n"
     ]
    },
    {
     "data": {
      "text/html": [
       "<div>\n",
       "<style scoped>\n",
       "    .dataframe tbody tr th:only-of-type {\n",
       "        vertical-align: middle;\n",
       "    }\n",
       "\n",
       "    .dataframe tbody tr th {\n",
       "        vertical-align: top;\n",
       "    }\n",
       "\n",
       "    .dataframe thead th {\n",
       "        text-align: right;\n",
       "    }\n",
       "</style>\n",
       "<table border=\"1\" class=\"dataframe\">\n",
       "  <thead>\n",
       "    <tr style=\"text-align: right;\">\n",
       "      <th></th>\n",
       "      <th>PARTNER1</th>\n",
       "      <th>PARTNER2</th>\n",
       "      <th>RELTYP</th>\n",
       "    </tr>\n",
       "  </thead>\n",
       "  <tbody>\n",
       "    <tr>\n",
       "      <th>0</th>\n",
       "      <td>0201079167</td>\n",
       "      <td>0200006547</td>\n",
       "      <td>REL_ORGCP</td>\n",
       "    </tr>\n",
       "    <tr>\n",
       "      <th>1</th>\n",
       "      <td>0201086231</td>\n",
       "      <td>0200007792</td>\n",
       "      <td>REL_ORGCP</td>\n",
       "    </tr>\n",
       "    <tr>\n",
       "      <th>2</th>\n",
       "      <td>0200514562</td>\n",
       "      <td>0200014200</td>\n",
       "      <td>REL_ORGCP</td>\n",
       "    </tr>\n",
       "    <tr>\n",
       "      <th>3</th>\n",
       "      <td>0201275282</td>\n",
       "      <td>0200038784</td>\n",
       "      <td>REL_ORGCP</td>\n",
       "    </tr>\n",
       "    <tr>\n",
       "      <th>4</th>\n",
       "      <td>0201083814</td>\n",
       "      <td>0200056992</td>\n",
       "      <td>REL_ORGCP</td>\n",
       "    </tr>\n",
       "  </tbody>\n",
       "</table>\n",
       "</div>"
      ],
      "text/plain": [
       "     PARTNER1    PARTNER2     RELTYP\n",
       "0  0201079167  0200006547  REL_ORGCP\n",
       "1  0201086231  0200007792  REL_ORGCP\n",
       "2  0200514562  0200014200  REL_ORGCP\n",
       "3  0201275282  0200038784  REL_ORGCP\n",
       "4  0201083814  0200056992  REL_ORGCP"
      ]
     },
     "execution_count": 12,
     "metadata": {},
     "output_type": "execute_result"
    }
   ],
   "source": [
    "but051['RELTYP'] = 'REL_ORGCP'  #Create a dummy relationship so we can later concat but050 & but051 among these 3 columns\n",
    "#ORGCP - Organization to Contact Person\n",
    "print(but051.shape)\n",
    "but051.head()"
   ]
  },
  {
   "cell_type": "code",
   "execution_count": 13,
   "metadata": {},
   "outputs": [
    {
     "name": "stdout",
     "output_type": "stream",
     "text": [
      "(14894, 3)\n"
     ]
    },
    {
     "data": {
      "text/html": [
       "<div>\n",
       "<style scoped>\n",
       "    .dataframe tbody tr th:only-of-type {\n",
       "        vertical-align: middle;\n",
       "    }\n",
       "\n",
       "    .dataframe tbody tr th {\n",
       "        vertical-align: top;\n",
       "    }\n",
       "\n",
       "    .dataframe thead th {\n",
       "        text-align: right;\n",
       "    }\n",
       "</style>\n",
       "<table border=\"1\" class=\"dataframe\">\n",
       "  <thead>\n",
       "    <tr style=\"text-align: right;\">\n",
       "      <th></th>\n",
       "      <th>PARTNER1</th>\n",
       "      <th>PARTNER2</th>\n",
       "      <th>RELTYP</th>\n",
       "    </tr>\n",
       "  </thead>\n",
       "  <tbody>\n",
       "    <tr>\n",
       "      <th>0</th>\n",
       "      <td>0201068139</td>\n",
       "      <td>0200000131</td>\n",
       "      <td>REL_BUR998</td>\n",
       "    </tr>\n",
       "    <tr>\n",
       "      <th>1</th>\n",
       "      <td>0200296033</td>\n",
       "      <td>0200000137</td>\n",
       "      <td>REL_BUR998</td>\n",
       "    </tr>\n",
       "    <tr>\n",
       "      <th>2</th>\n",
       "      <td>0200203952</td>\n",
       "      <td>0200000164</td>\n",
       "      <td>REL_BUR998</td>\n",
       "    </tr>\n",
       "    <tr>\n",
       "      <th>3</th>\n",
       "      <td>0201073391</td>\n",
       "      <td>0200000165</td>\n",
       "      <td>REL_BUR998</td>\n",
       "    </tr>\n",
       "    <tr>\n",
       "      <th>4</th>\n",
       "      <td>0201070861</td>\n",
       "      <td>0200000192</td>\n",
       "      <td>REL_BUR998</td>\n",
       "    </tr>\n",
       "  </tbody>\n",
       "</table>\n",
       "</div>"
      ],
      "text/plain": [
       "     PARTNER1    PARTNER2      RELTYP\n",
       "0  0201068139  0200000131  REL_BUR998\n",
       "1  0200296033  0200000137  REL_BUR998\n",
       "2  0200203952  0200000164  REL_BUR998\n",
       "3  0201073391  0200000165  REL_BUR998\n",
       "4  0201070861  0200000192  REL_BUR998"
      ]
     },
     "execution_count": 13,
     "metadata": {},
     "output_type": "execute_result"
    }
   ],
   "source": [
    "#Handlining 2 way relationship in but050\n",
    "two_way_corr = but050[['PARTNER2','PARTNER1','RELTYP']][(but050['RELTYP']=='REL_BUR023') | (but050['RELTYP']=='REL_BUR998') | \n",
    "                                        (but050['RELTYP']=='REL_Z00018')]\n",
    "two_way_corr = two_way_corr.rename(columns={\"PARTNER2\": \"PARTNER1\", \"PARTNER1\": \"PARTNER2\",\"RELTYP\":\"RELTYP\"})\n",
    "two_way_corr.reset_index(drop=True, inplace=True)\n",
    "print(two_way_corr.shape)\n",
    "two_way_corr.head()"
   ]
  },
  {
   "cell_type": "code",
   "execution_count": 14,
   "metadata": {},
   "outputs": [
    {
     "name": "stdout",
     "output_type": "stream",
     "text": [
      "(67055, 3)\n"
     ]
    },
    {
     "data": {
      "text/html": [
       "<div>\n",
       "<style scoped>\n",
       "    .dataframe tbody tr th:only-of-type {\n",
       "        vertical-align: middle;\n",
       "    }\n",
       "\n",
       "    .dataframe tbody tr th {\n",
       "        vertical-align: top;\n",
       "    }\n",
       "\n",
       "    .dataframe thead th {\n",
       "        text-align: right;\n",
       "    }\n",
       "</style>\n",
       "<table border=\"1\" class=\"dataframe\">\n",
       "  <thead>\n",
       "    <tr style=\"text-align: right;\">\n",
       "      <th></th>\n",
       "      <th>PARTNER1</th>\n",
       "      <th>PARTNER2</th>\n",
       "      <th>RELTYP</th>\n",
       "    </tr>\n",
       "  </thead>\n",
       "  <tbody>\n",
       "    <tr>\n",
       "      <th>0</th>\n",
       "      <td>0200025600</td>\n",
       "      <td>0200325734</td>\n",
       "      <td>REL_BUR021</td>\n",
       "    </tr>\n",
       "    <tr>\n",
       "      <th>1</th>\n",
       "      <td>0200025600</td>\n",
       "      <td>0200356884</td>\n",
       "      <td>REL_BUR021</td>\n",
       "    </tr>\n",
       "    <tr>\n",
       "      <th>2</th>\n",
       "      <td>0200025600</td>\n",
       "      <td>0200736210</td>\n",
       "      <td>REL_BUR021</td>\n",
       "    </tr>\n",
       "    <tr>\n",
       "      <th>3</th>\n",
       "      <td>0200000002</td>\n",
       "      <td>0200063069</td>\n",
       "      <td>REL_BUR011</td>\n",
       "    </tr>\n",
       "    <tr>\n",
       "      <th>4</th>\n",
       "      <td>0200000013</td>\n",
       "      <td>0200295958</td>\n",
       "      <td>REL_BUR011</td>\n",
       "    </tr>\n",
       "  </tbody>\n",
       "</table>\n",
       "</div>"
      ],
      "text/plain": [
       "     PARTNER1    PARTNER2      RELTYP\n",
       "0  0200025600  0200325734  REL_BUR021\n",
       "1  0200025600  0200356884  REL_BUR021\n",
       "2  0200025600  0200736210  REL_BUR021\n",
       "3  0200000002  0200063069  REL_BUR011\n",
       "4  0200000013  0200295958  REL_BUR011"
      ]
     },
     "execution_count": 14,
     "metadata": {},
     "output_type": "execute_result"
    }
   ],
   "source": [
    "but050_2_way_corr = pd.concat([but050,two_way_corr])  #A<->B is same as B<->A\n",
    "relations = pd.concat([but050_2_way_corr,but051])     #but050 + but051\n",
    "print(relations.shape)\n",
    "relations.head()"
   ]
  },
  {
   "cell_type": "code",
   "execution_count": 15,
   "metadata": {},
   "outputs": [
    {
     "name": "stdout",
     "output_type": "stream",
     "text": [
      "(47136, 12)\n"
     ]
    },
    {
     "data": {
      "text/html": [
       "<div>\n",
       "<style scoped>\n",
       "    .dataframe tbody tr th:only-of-type {\n",
       "        vertical-align: middle;\n",
       "    }\n",
       "\n",
       "    .dataframe tbody tr th {\n",
       "        vertical-align: top;\n",
       "    }\n",
       "\n",
       "    .dataframe thead th {\n",
       "        text-align: right;\n",
       "    }\n",
       "</style>\n",
       "<table border=\"1\" class=\"dataframe\">\n",
       "  <thead>\n",
       "    <tr style=\"text-align: right;\">\n",
       "      <th>RELTYP</th>\n",
       "      <th>PARTNER</th>\n",
       "      <th>REL_ORGCP</th>\n",
       "      <th>REL_Z00016</th>\n",
       "      <th>REL_BUR998</th>\n",
       "      <th>REL_Z00001</th>\n",
       "      <th>REL_Z00018</th>\n",
       "      <th>REL_BUR011</th>\n",
       "      <th>REL_BUR023</th>\n",
       "      <th>REL_ZSECR</th>\n",
       "      <th>REL_BUR021</th>\n",
       "      <th>REL_Z00017</th>\n",
       "      <th>REL_Z00019</th>\n",
       "    </tr>\n",
       "  </thead>\n",
       "  <tbody>\n",
       "    <tr>\n",
       "      <th>0</th>\n",
       "      <td>0200000002</td>\n",
       "      <td>0</td>\n",
       "      <td>0</td>\n",
       "      <td>0</td>\n",
       "      <td>0</td>\n",
       "      <td>0</td>\n",
       "      <td>1</td>\n",
       "      <td>0</td>\n",
       "      <td>0</td>\n",
       "      <td>0</td>\n",
       "      <td>0</td>\n",
       "      <td>0</td>\n",
       "    </tr>\n",
       "    <tr>\n",
       "      <th>1</th>\n",
       "      <td>0200000007</td>\n",
       "      <td>2</td>\n",
       "      <td>0</td>\n",
       "      <td>0</td>\n",
       "      <td>0</td>\n",
       "      <td>0</td>\n",
       "      <td>0</td>\n",
       "      <td>0</td>\n",
       "      <td>0</td>\n",
       "      <td>0</td>\n",
       "      <td>0</td>\n",
       "      <td>0</td>\n",
       "    </tr>\n",
       "    <tr>\n",
       "      <th>2</th>\n",
       "      <td>0200000013</td>\n",
       "      <td>1</td>\n",
       "      <td>0</td>\n",
       "      <td>0</td>\n",
       "      <td>0</td>\n",
       "      <td>0</td>\n",
       "      <td>1</td>\n",
       "      <td>0</td>\n",
       "      <td>0</td>\n",
       "      <td>0</td>\n",
       "      <td>0</td>\n",
       "      <td>0</td>\n",
       "    </tr>\n",
       "    <tr>\n",
       "      <th>3</th>\n",
       "      <td>0200000023</td>\n",
       "      <td>0</td>\n",
       "      <td>0</td>\n",
       "      <td>0</td>\n",
       "      <td>0</td>\n",
       "      <td>0</td>\n",
       "      <td>1</td>\n",
       "      <td>0</td>\n",
       "      <td>0</td>\n",
       "      <td>0</td>\n",
       "      <td>0</td>\n",
       "      <td>0</td>\n",
       "    </tr>\n",
       "    <tr>\n",
       "      <th>4</th>\n",
       "      <td>0200000035</td>\n",
       "      <td>2</td>\n",
       "      <td>0</td>\n",
       "      <td>0</td>\n",
       "      <td>0</td>\n",
       "      <td>0</td>\n",
       "      <td>1</td>\n",
       "      <td>0</td>\n",
       "      <td>0</td>\n",
       "      <td>0</td>\n",
       "      <td>0</td>\n",
       "      <td>0</td>\n",
       "    </tr>\n",
       "  </tbody>\n",
       "</table>\n",
       "</div>"
      ],
      "text/plain": [
       "RELTYP     PARTNER  REL_ORGCP  REL_Z00016  REL_BUR998  REL_Z00001  REL_Z00018  \\\n",
       "0       0200000002          0           0           0           0           0   \n",
       "1       0200000007          2           0           0           0           0   \n",
       "2       0200000013          1           0           0           0           0   \n",
       "3       0200000023          0           0           0           0           0   \n",
       "4       0200000035          2           0           0           0           0   \n",
       "\n",
       "RELTYP  REL_BUR011  REL_BUR023  REL_ZSECR  REL_BUR021  REL_Z00017  REL_Z00019  \n",
       "0                1           0          0           0           0           0  \n",
       "1                0           0          0           0           0           0  \n",
       "2                1           0          0           0           0           0  \n",
       "3                1           0          0           0           0           0  \n",
       "4                1           0          0           0           0           0  "
      ]
     },
     "execution_count": 15,
     "metadata": {},
     "output_type": "execute_result"
    }
   ],
   "source": [
    "relations_matrix = pd.crosstab(index = relations.iloc[:,0], columns = relations.iloc[:,2])\n",
    "relations_matrix['PARTNER'] = relations_matrix.index\n",
    "relations_matrix.reset_index(drop=True, inplace=True)\n",
    "matrix_cols = ['PARTNER'] + ['REL_ORGCP'] + list(set(but050['RELTYP']))\n",
    "relations_matrix = relations_matrix[matrix_cols]\n",
    "print(relations_matrix.shape)\n",
    "relations_matrix.head()"
   ]
  },
  {
   "cell_type": "code",
   "execution_count": 16,
   "metadata": {},
   "outputs": [
    {
     "data": {
      "text/plain": [
       "(72114, 1)"
      ]
     },
     "execution_count": 16,
     "metadata": {},
     "output_type": "execute_result"
    }
   ],
   "source": [
    "#To cover for all possible business partners in the LUF database. Set the values for partners with no relations as 0\n",
    "but000 = pd.read_csv('sqldata/20190102_BUT000.csv',dtype = str, encoding='latin-1',sep=';')\n",
    "but000 = but000[['PARTNER']]\n",
    "but000.shape"
   ]
  },
  {
   "cell_type": "code",
   "execution_count": 17,
   "metadata": {},
   "outputs": [
    {
     "name": "stdout",
     "output_type": "stream",
     "text": [
      "(72638, 12)\n"
     ]
    },
    {
     "data": {
      "text/html": [
       "<div>\n",
       "<style scoped>\n",
       "    .dataframe tbody tr th:only-of-type {\n",
       "        vertical-align: middle;\n",
       "    }\n",
       "\n",
       "    .dataframe tbody tr th {\n",
       "        vertical-align: top;\n",
       "    }\n",
       "\n",
       "    .dataframe thead th {\n",
       "        text-align: right;\n",
       "    }\n",
       "</style>\n",
       "<table border=\"1\" class=\"dataframe\">\n",
       "  <thead>\n",
       "    <tr style=\"text-align: right;\">\n",
       "      <th></th>\n",
       "      <th>PARTNER</th>\n",
       "      <th>REL_ORGCP</th>\n",
       "      <th>REL_BUR011</th>\n",
       "      <th>REL_BUR021</th>\n",
       "      <th>REL_BUR023</th>\n",
       "      <th>REL_BUR998</th>\n",
       "      <th>REL_Z00001</th>\n",
       "      <th>REL_Z00016</th>\n",
       "      <th>REL_Z00017</th>\n",
       "      <th>REL_Z00018</th>\n",
       "      <th>REL_Z00019</th>\n",
       "      <th>REL_ZSECR</th>\n",
       "    </tr>\n",
       "  </thead>\n",
       "  <tbody>\n",
       "    <tr>\n",
       "      <th>0</th>\n",
       "      <td>0200000002</td>\n",
       "      <td>0</td>\n",
       "      <td>1</td>\n",
       "      <td>0</td>\n",
       "      <td>0</td>\n",
       "      <td>0</td>\n",
       "      <td>0</td>\n",
       "      <td>0</td>\n",
       "      <td>0</td>\n",
       "      <td>0</td>\n",
       "      <td>0</td>\n",
       "      <td>0</td>\n",
       "    </tr>\n",
       "    <tr>\n",
       "      <th>1</th>\n",
       "      <td>0200000004</td>\n",
       "      <td>0</td>\n",
       "      <td>0</td>\n",
       "      <td>0</td>\n",
       "      <td>0</td>\n",
       "      <td>0</td>\n",
       "      <td>0</td>\n",
       "      <td>0</td>\n",
       "      <td>0</td>\n",
       "      <td>0</td>\n",
       "      <td>0</td>\n",
       "      <td>0</td>\n",
       "    </tr>\n",
       "    <tr>\n",
       "      <th>2</th>\n",
       "      <td>0200000005</td>\n",
       "      <td>0</td>\n",
       "      <td>0</td>\n",
       "      <td>0</td>\n",
       "      <td>0</td>\n",
       "      <td>0</td>\n",
       "      <td>0</td>\n",
       "      <td>0</td>\n",
       "      <td>0</td>\n",
       "      <td>0</td>\n",
       "      <td>0</td>\n",
       "      <td>0</td>\n",
       "    </tr>\n",
       "    <tr>\n",
       "      <th>3</th>\n",
       "      <td>0200000006</td>\n",
       "      <td>0</td>\n",
       "      <td>0</td>\n",
       "      <td>0</td>\n",
       "      <td>0</td>\n",
       "      <td>0</td>\n",
       "      <td>0</td>\n",
       "      <td>0</td>\n",
       "      <td>0</td>\n",
       "      <td>0</td>\n",
       "      <td>0</td>\n",
       "      <td>0</td>\n",
       "    </tr>\n",
       "    <tr>\n",
       "      <th>4</th>\n",
       "      <td>0200000007</td>\n",
       "      <td>2</td>\n",
       "      <td>0</td>\n",
       "      <td>0</td>\n",
       "      <td>0</td>\n",
       "      <td>0</td>\n",
       "      <td>0</td>\n",
       "      <td>0</td>\n",
       "      <td>0</td>\n",
       "      <td>0</td>\n",
       "      <td>0</td>\n",
       "      <td>0</td>\n",
       "    </tr>\n",
       "  </tbody>\n",
       "</table>\n",
       "</div>"
      ],
      "text/plain": [
       "      PARTNER  REL_ORGCP  REL_BUR011  REL_BUR021  REL_BUR023  REL_BUR998  \\\n",
       "0  0200000002          0           1           0           0           0   \n",
       "1  0200000004          0           0           0           0           0   \n",
       "2  0200000005          0           0           0           0           0   \n",
       "3  0200000006          0           0           0           0           0   \n",
       "4  0200000007          2           0           0           0           0   \n",
       "\n",
       "   REL_Z00001  REL_Z00016  REL_Z00017  REL_Z00018  REL_Z00019  REL_ZSECR  \n",
       "0           0           0           0           0           0          0  \n",
       "1           0           0           0           0           0          0  \n",
       "2           0           0           0           0           0          0  \n",
       "3           0           0           0           0           0          0  \n",
       "4           0           0           0           0           0          0  "
      ]
     },
     "execution_count": 17,
     "metadata": {},
     "output_type": "execute_result"
    }
   ],
   "source": [
    "partner_rel_matrix = pd.merge(but000,relations_matrix,on='PARTNER',how='outer')\n",
    "partner_rel_matrix = partner_rel_matrix.fillna(0)\n",
    "partner_rel_matrix = partner_rel_matrix.sort_values(['PARTNER'], ascending=[1])\n",
    "partner_rel_matrix.reset_index(drop=True, inplace=True)\n",
    "rel_cols = ['REL_ORGCP'] + list(set(but050['RELTYP']))\n",
    "sorted_rel_cols = ['PARTNER'] + ['REL_ORGCP'] + list(sorted(set(but050['RELTYP'])))\n",
    "partner_rel_matrix[rel_cols] = partner_rel_matrix[rel_cols].astype('int')\n",
    "partner_rel_matrix = partner_rel_matrix[sorted_rel_cols]\n",
    "print(partner_rel_matrix.shape)\n",
    "partner_rel_matrix.head()"
   ]
  },
  {
   "cell_type": "code",
   "execution_count": 18,
   "metadata": {},
   "outputs": [],
   "source": [
    "#Write the relations matrix\n",
    "partner_rel_matrix.to_csv('SQLDATA/PYTHON_OUTPUTS/Relations_p_r_matrix.csv')"
   ]
  },
  {
   "cell_type": "code",
   "execution_count": null,
   "metadata": {},
   "outputs": [],
   "source": []
  },
  {
   "cell_type": "code",
   "execution_count": null,
   "metadata": {},
   "outputs": [],
   "source": []
  }
 ],
 "metadata": {
  "kernelspec": {
   "display_name": "Python 3",
   "language": "python",
   "name": "python3"
  },
  "language_info": {
   "codemirror_mode": {
    "name": "ipython",
    "version": 3
   },
   "file_extension": ".py",
   "mimetype": "text/x-python",
   "name": "python",
   "nbconvert_exporter": "python",
   "pygments_lexer": "ipython3",
   "version": "3.7.1"
  }
 },
 "nbformat": 4,
 "nbformat_minor": 2
}
