{
 "cells": [
  {
   "cell_type": "code",
   "execution_count": 1,
   "metadata": {},
   "outputs": [],
   "source": [
    "import pandas as pd\n",
    "import numpy as np\n",
    "import matplotlib.pyplot as plt\n",
    "import matplotlib.image as mpimg\n",
    "import seaborn as sns\n",
    "import csv\n",
    "from sklearn.model_selection import train_test_split\n",
    "from sklearn.ensemble import RandomForestClassifier\n",
    "from sklearn.linear_model import LogisticRegression\n",
    "from sklearn.model_selection import train_test_split\n",
    "from sklearn.model_selection import KFold\n",
    "from sklearn.model_selection import cross_val_score,cross_val_predict\n",
    "from sklearn.model_selection import RandomizedSearchCV, GridSearchCV\n",
    "from sklearn.feature_selection import RFECV\n",
    "from sklearn.metrics import classification_report,confusion_matrix\n",
    "from sklearn.metrics import accuracy_score\n",
    "from sklearn.metrics import mean_squared_error\n",
    "from sklearn.metrics import matthews_corrcoef\n",
    "from sklearn.metrics import f1_score\n",
    "from sklearn.metrics import roc_curve,precision_recall_curve,auc,make_scorer,recall_score,precision_score,confusion_matrix\n",
    "from sklearn.decomposition import PCA\n",
    "from sklearn.svm import SVC\n",
    "\n",
    "import ast\n",
    "\n",
    "import warnings\n",
    "warnings.filterwarnings('ignore')"
   ]
  },
  {
   "cell_type": "markdown",
   "metadata": {},
   "source": [
    "# Summary\n",
    "\n",
    "Here we build models that help the Leuven University Fund (LUF) to predict if a donor would donate to the LUF again after donating for the first time to LUF. <br>\n",
    "\n",
    "The required data for this notebook is obtained using question2_prepared_data.csv file that is generated in 'Data Preparation & Feature Construction.ipynb'. <br>\n",
    "\n",
    "So far only 3 classifiers are used namely Random Forests, Logistic Regression and SVM with PCA. <br>\n",
    "\n",
    "The idea is to train the classifier for high recall while minimizing as much false positives as possible. <br>\n",
    "\n",
    "The test data is the donors who made their first donation in the year 2017 or 2018. <br>\n",
    "\n",
    "The train & validation data is taken from the donors who made their first donation between 2002 & 2016"
   ]
  },
  {
   "cell_type": "code",
   "execution_count": 2,
   "metadata": {
    "scrolled": false
   },
   "outputs": [
    {
     "name": "stdout",
     "output_type": "stream",
     "text": [
      "(56897, 131)\n",
      "(56897, 130)\n"
     ]
    },
    {
     "data": {
      "text/html": [
       "<div>\n",
       "<style scoped>\n",
       "    .dataframe tbody tr th:only-of-type {\n",
       "        vertical-align: middle;\n",
       "    }\n",
       "\n",
       "    .dataframe tbody tr th {\n",
       "        vertical-align: top;\n",
       "    }\n",
       "\n",
       "    .dataframe thead th {\n",
       "        text-align: right;\n",
       "    }\n",
       "</style>\n",
       "<table border=\"1\" class=\"dataframe\">\n",
       "  <thead>\n",
       "    <tr style=\"text-align: right;\">\n",
       "      <th></th>\n",
       "      <th>PARTNER</th>\n",
       "      <th>XSEXF</th>\n",
       "      <th>XSEXM</th>\n",
       "      <th>ZZAMNT_PAYED</th>\n",
       "      <th>ZLUF_DOCDATE</th>\n",
       "      <th>ZZAMNT_PAYED_NORM</th>\n",
       "      <th>ISK_PERSON</th>\n",
       "      <th>ISK_BIRTHPL</th>\n",
       "      <th>ISK_BU_LANGU</th>\n",
       "      <th>ISK_CNT_ORIGIN</th>\n",
       "      <th>...</th>\n",
       "      <th>ZLUF_LIJST</th>\n",
       "      <th>ZLUF_ORG_ALS_PERSOON</th>\n",
       "      <th>ZLUF_ORG_VERENIGING</th>\n",
       "      <th>ZLUF_SCHENKINTERESSE_ARTnCULTURE</th>\n",
       "      <th>ZLUF_SCHENKINTERESSE_CHILDREN</th>\n",
       "      <th>ZLUF_SCHENKINTERESSE_DEVCOOP</th>\n",
       "      <th>ZLUF_SCHENKINTERESSE_HEALTHCARE</th>\n",
       "      <th>ZLUF_SCHENKINTERESSE_HERITAGE</th>\n",
       "      <th>ZLUF_SCHENKINTERESSE_SCHOLARSHIPS</th>\n",
       "      <th>IS_MULTI_DONOR</th>\n",
       "    </tr>\n",
       "  </thead>\n",
       "  <tbody>\n",
       "    <tr>\n",
       "      <th>0</th>\n",
       "      <td>200000002</td>\n",
       "      <td>0</td>\n",
       "      <td>0</td>\n",
       "      <td>1000.0</td>\n",
       "      <td>2004-07-20</td>\n",
       "      <td>1000.0</td>\n",
       "      <td>0</td>\n",
       "      <td>0</td>\n",
       "      <td>0</td>\n",
       "      <td>0</td>\n",
       "      <td>...</td>\n",
       "      <td>0</td>\n",
       "      <td>0</td>\n",
       "      <td>0</td>\n",
       "      <td>0</td>\n",
       "      <td>0</td>\n",
       "      <td>0</td>\n",
       "      <td>0</td>\n",
       "      <td>0</td>\n",
       "      <td>0</td>\n",
       "      <td>1</td>\n",
       "    </tr>\n",
       "    <tr>\n",
       "      <th>1</th>\n",
       "      <td>200000007</td>\n",
       "      <td>0</td>\n",
       "      <td>0</td>\n",
       "      <td>4000.0</td>\n",
       "      <td>2010-11-02</td>\n",
       "      <td>4000.0</td>\n",
       "      <td>0</td>\n",
       "      <td>0</td>\n",
       "      <td>0</td>\n",
       "      <td>0</td>\n",
       "      <td>...</td>\n",
       "      <td>0</td>\n",
       "      <td>0</td>\n",
       "      <td>0</td>\n",
       "      <td>0</td>\n",
       "      <td>0</td>\n",
       "      <td>0</td>\n",
       "      <td>0</td>\n",
       "      <td>0</td>\n",
       "      <td>0</td>\n",
       "      <td>1</td>\n",
       "    </tr>\n",
       "    <tr>\n",
       "      <th>2</th>\n",
       "      <td>200000010</td>\n",
       "      <td>0</td>\n",
       "      <td>0</td>\n",
       "      <td>100.0</td>\n",
       "      <td>2009-12-22</td>\n",
       "      <td>100.0</td>\n",
       "      <td>0</td>\n",
       "      <td>0</td>\n",
       "      <td>0</td>\n",
       "      <td>0</td>\n",
       "      <td>...</td>\n",
       "      <td>0</td>\n",
       "      <td>0</td>\n",
       "      <td>0</td>\n",
       "      <td>0</td>\n",
       "      <td>0</td>\n",
       "      <td>0</td>\n",
       "      <td>0</td>\n",
       "      <td>0</td>\n",
       "      <td>0</td>\n",
       "      <td>1</td>\n",
       "    </tr>\n",
       "    <tr>\n",
       "      <th>3</th>\n",
       "      <td>200000013</td>\n",
       "      <td>0</td>\n",
       "      <td>0</td>\n",
       "      <td>5000.0</td>\n",
       "      <td>2012-02-28</td>\n",
       "      <td>5000.0</td>\n",
       "      <td>0</td>\n",
       "      <td>0</td>\n",
       "      <td>0</td>\n",
       "      <td>0</td>\n",
       "      <td>...</td>\n",
       "      <td>0</td>\n",
       "      <td>0</td>\n",
       "      <td>0</td>\n",
       "      <td>0</td>\n",
       "      <td>0</td>\n",
       "      <td>0</td>\n",
       "      <td>0</td>\n",
       "      <td>0</td>\n",
       "      <td>0</td>\n",
       "      <td>1</td>\n",
       "    </tr>\n",
       "    <tr>\n",
       "      <th>4</th>\n",
       "      <td>200000024</td>\n",
       "      <td>0</td>\n",
       "      <td>0</td>\n",
       "      <td>20000.0</td>\n",
       "      <td>2018-01-03</td>\n",
       "      <td>20000.0</td>\n",
       "      <td>0</td>\n",
       "      <td>0</td>\n",
       "      <td>0</td>\n",
       "      <td>0</td>\n",
       "      <td>...</td>\n",
       "      <td>0</td>\n",
       "      <td>0</td>\n",
       "      <td>0</td>\n",
       "      <td>0</td>\n",
       "      <td>0</td>\n",
       "      <td>0</td>\n",
       "      <td>0</td>\n",
       "      <td>0</td>\n",
       "      <td>0</td>\n",
       "      <td>0</td>\n",
       "    </tr>\n",
       "  </tbody>\n",
       "</table>\n",
       "<p>5 rows × 130 columns</p>\n",
       "</div>"
      ],
      "text/plain": [
       "     PARTNER  XSEXF  XSEXM  ZZAMNT_PAYED ZLUF_DOCDATE  ZZAMNT_PAYED_NORM  \\\n",
       "0  200000002      0      0        1000.0   2004-07-20             1000.0   \n",
       "1  200000007      0      0        4000.0   2010-11-02             4000.0   \n",
       "2  200000010      0      0         100.0   2009-12-22              100.0   \n",
       "3  200000013      0      0        5000.0   2012-02-28             5000.0   \n",
       "4  200000024      0      0       20000.0   2018-01-03            20000.0   \n",
       "\n",
       "   ISK_PERSON  ISK_BIRTHPL  ISK_BU_LANGU  ISK_CNT_ORIGIN       ...        \\\n",
       "0           0            0             0               0       ...         \n",
       "1           0            0             0               0       ...         \n",
       "2           0            0             0               0       ...         \n",
       "3           0            0             0               0       ...         \n",
       "4           0            0             0               0       ...         \n",
       "\n",
       "   ZLUF_LIJST  ZLUF_ORG_ALS_PERSOON  ZLUF_ORG_VERENIGING  \\\n",
       "0           0                     0                    0   \n",
       "1           0                     0                    0   \n",
       "2           0                     0                    0   \n",
       "3           0                     0                    0   \n",
       "4           0                     0                    0   \n",
       "\n",
       "   ZLUF_SCHENKINTERESSE_ARTnCULTURE  ZLUF_SCHENKINTERESSE_CHILDREN  \\\n",
       "0                                 0                              0   \n",
       "1                                 0                              0   \n",
       "2                                 0                              0   \n",
       "3                                 0                              0   \n",
       "4                                 0                              0   \n",
       "\n",
       "   ZLUF_SCHENKINTERESSE_DEVCOOP  ZLUF_SCHENKINTERESSE_HEALTHCARE  \\\n",
       "0                             0                                0   \n",
       "1                             0                                0   \n",
       "2                             0                                0   \n",
       "3                             0                                0   \n",
       "4                             0                                0   \n",
       "\n",
       "   ZLUF_SCHENKINTERESSE_HERITAGE  ZLUF_SCHENKINTERESSE_SCHOLARSHIPS  \\\n",
       "0                              0                                  0   \n",
       "1                              0                                  0   \n",
       "2                              0                                  0   \n",
       "3                              0                                  0   \n",
       "4                              0                                  0   \n",
       "\n",
       "   IS_MULTI_DONOR  \n",
       "0               1  \n",
       "1               1  \n",
       "2               1  \n",
       "3               1  \n",
       "4               0  \n",
       "\n",
       "[5 rows x 130 columns]"
      ]
     },
     "execution_count": 2,
     "metadata": {},
     "output_type": "execute_result"
    }
   ],
   "source": [
    "question2_prepared_data = pd.read_csv('SQLDATA/PYTHON_OUTPUTS/question2_prepared_data.csv')\n",
    "print(question2_prepared_data.shape)\n",
    "question2_prepared_data = question2_prepared_data.drop(['Unnamed: 0'], axis=1)\n",
    "print(question2_prepared_data.shape)\n",
    "question2_prepared_data.head()"
   ]
  },
  {
   "cell_type": "code",
   "execution_count": 3,
   "metadata": {},
   "outputs": [
    {
     "name": "stdout",
     "output_type": "stream",
     "text": [
      "(46206, 113)\n",
      "Number of multi-donors in training set: 13798\n"
     ]
    },
    {
     "data": {
      "text/html": [
       "<div>\n",
       "<style scoped>\n",
       "    .dataframe tbody tr th:only-of-type {\n",
       "        vertical-align: middle;\n",
       "    }\n",
       "\n",
       "    .dataframe tbody tr th {\n",
       "        vertical-align: top;\n",
       "    }\n",
       "\n",
       "    .dataframe thead th {\n",
       "        text-align: right;\n",
       "    }\n",
       "</style>\n",
       "<table border=\"1\" class=\"dataframe\">\n",
       "  <thead>\n",
       "    <tr style=\"text-align: right;\">\n",
       "      <th></th>\n",
       "      <th>PARTNER</th>\n",
       "      <th>XSEXF</th>\n",
       "      <th>XSEXM</th>\n",
       "      <th>ZZAMNT_PAYED</th>\n",
       "      <th>ZLUF_DOCDATE</th>\n",
       "      <th>ZZAMNT_PAYED_NORM</th>\n",
       "      <th>ISK_PERSON</th>\n",
       "      <th>ISK_BIRTHPL</th>\n",
       "      <th>ISK_BU_LANGU</th>\n",
       "      <th>ISK_CNT_ORIGIN</th>\n",
       "      <th>...</th>\n",
       "      <th>ZLUF_LIJST</th>\n",
       "      <th>ZLUF_ORG_ALS_PERSOON</th>\n",
       "      <th>ZLUF_ORG_VERENIGING</th>\n",
       "      <th>ZLUF_SCHENKINTERESSE_ARTnCULTURE</th>\n",
       "      <th>ZLUF_SCHENKINTERESSE_CHILDREN</th>\n",
       "      <th>ZLUF_SCHENKINTERESSE_DEVCOOP</th>\n",
       "      <th>ZLUF_SCHENKINTERESSE_HEALTHCARE</th>\n",
       "      <th>ZLUF_SCHENKINTERESSE_HERITAGE</th>\n",
       "      <th>ZLUF_SCHENKINTERESSE_SCHOLARSHIPS</th>\n",
       "      <th>IS_MULTI_DONOR</th>\n",
       "    </tr>\n",
       "  </thead>\n",
       "  <tbody>\n",
       "    <tr>\n",
       "      <th>0</th>\n",
       "      <td>200000002</td>\n",
       "      <td>0</td>\n",
       "      <td>0</td>\n",
       "      <td>1000.0</td>\n",
       "      <td>2004-07-20</td>\n",
       "      <td>1000.0</td>\n",
       "      <td>0</td>\n",
       "      <td>0</td>\n",
       "      <td>0</td>\n",
       "      <td>0</td>\n",
       "      <td>...</td>\n",
       "      <td>0</td>\n",
       "      <td>0</td>\n",
       "      <td>0</td>\n",
       "      <td>0</td>\n",
       "      <td>0</td>\n",
       "      <td>0</td>\n",
       "      <td>0</td>\n",
       "      <td>0</td>\n",
       "      <td>0</td>\n",
       "      <td>1</td>\n",
       "    </tr>\n",
       "    <tr>\n",
       "      <th>1</th>\n",
       "      <td>200000007</td>\n",
       "      <td>0</td>\n",
       "      <td>0</td>\n",
       "      <td>4000.0</td>\n",
       "      <td>2010-11-02</td>\n",
       "      <td>4000.0</td>\n",
       "      <td>0</td>\n",
       "      <td>0</td>\n",
       "      <td>0</td>\n",
       "      <td>0</td>\n",
       "      <td>...</td>\n",
       "      <td>0</td>\n",
       "      <td>0</td>\n",
       "      <td>0</td>\n",
       "      <td>0</td>\n",
       "      <td>0</td>\n",
       "      <td>0</td>\n",
       "      <td>0</td>\n",
       "      <td>0</td>\n",
       "      <td>0</td>\n",
       "      <td>1</td>\n",
       "    </tr>\n",
       "    <tr>\n",
       "      <th>2</th>\n",
       "      <td>200000010</td>\n",
       "      <td>0</td>\n",
       "      <td>0</td>\n",
       "      <td>100.0</td>\n",
       "      <td>2009-12-22</td>\n",
       "      <td>100.0</td>\n",
       "      <td>0</td>\n",
       "      <td>0</td>\n",
       "      <td>0</td>\n",
       "      <td>0</td>\n",
       "      <td>...</td>\n",
       "      <td>0</td>\n",
       "      <td>0</td>\n",
       "      <td>0</td>\n",
       "      <td>0</td>\n",
       "      <td>0</td>\n",
       "      <td>0</td>\n",
       "      <td>0</td>\n",
       "      <td>0</td>\n",
       "      <td>0</td>\n",
       "      <td>1</td>\n",
       "    </tr>\n",
       "    <tr>\n",
       "      <th>3</th>\n",
       "      <td>200000013</td>\n",
       "      <td>0</td>\n",
       "      <td>0</td>\n",
       "      <td>5000.0</td>\n",
       "      <td>2012-02-28</td>\n",
       "      <td>5000.0</td>\n",
       "      <td>0</td>\n",
       "      <td>0</td>\n",
       "      <td>0</td>\n",
       "      <td>0</td>\n",
       "      <td>...</td>\n",
       "      <td>0</td>\n",
       "      <td>0</td>\n",
       "      <td>0</td>\n",
       "      <td>0</td>\n",
       "      <td>0</td>\n",
       "      <td>0</td>\n",
       "      <td>0</td>\n",
       "      <td>0</td>\n",
       "      <td>0</td>\n",
       "      <td>1</td>\n",
       "    </tr>\n",
       "    <tr>\n",
       "      <th>5</th>\n",
       "      <td>200000035</td>\n",
       "      <td>0</td>\n",
       "      <td>0</td>\n",
       "      <td>15000.0</td>\n",
       "      <td>2007-10-15</td>\n",
       "      <td>15000.0</td>\n",
       "      <td>0</td>\n",
       "      <td>0</td>\n",
       "      <td>0</td>\n",
       "      <td>0</td>\n",
       "      <td>...</td>\n",
       "      <td>0</td>\n",
       "      <td>0</td>\n",
       "      <td>0</td>\n",
       "      <td>0</td>\n",
       "      <td>0</td>\n",
       "      <td>0</td>\n",
       "      <td>0</td>\n",
       "      <td>0</td>\n",
       "      <td>0</td>\n",
       "      <td>1</td>\n",
       "    </tr>\n",
       "  </tbody>\n",
       "</table>\n",
       "<p>5 rows × 113 columns</p>\n",
       "</div>"
      ],
      "text/plain": [
       "     PARTNER  XSEXF  XSEXM  ZZAMNT_PAYED ZLUF_DOCDATE  ZZAMNT_PAYED_NORM  \\\n",
       "0  200000002      0      0        1000.0   2004-07-20             1000.0   \n",
       "1  200000007      0      0        4000.0   2010-11-02             4000.0   \n",
       "2  200000010      0      0         100.0   2009-12-22              100.0   \n",
       "3  200000013      0      0        5000.0   2012-02-28             5000.0   \n",
       "5  200000035      0      0       15000.0   2007-10-15            15000.0   \n",
       "\n",
       "   ISK_PERSON  ISK_BIRTHPL  ISK_BU_LANGU  ISK_CNT_ORIGIN       ...        \\\n",
       "0           0            0             0               0       ...         \n",
       "1           0            0             0               0       ...         \n",
       "2           0            0             0               0       ...         \n",
       "3           0            0             0               0       ...         \n",
       "5           0            0             0               0       ...         \n",
       "\n",
       "   ZLUF_LIJST  ZLUF_ORG_ALS_PERSOON  ZLUF_ORG_VERENIGING  \\\n",
       "0           0                     0                    0   \n",
       "1           0                     0                    0   \n",
       "2           0                     0                    0   \n",
       "3           0                     0                    0   \n",
       "5           0                     0                    0   \n",
       "\n",
       "   ZLUF_SCHENKINTERESSE_ARTnCULTURE  ZLUF_SCHENKINTERESSE_CHILDREN  \\\n",
       "0                                 0                              0   \n",
       "1                                 0                              0   \n",
       "2                                 0                              0   \n",
       "3                                 0                              0   \n",
       "5                                 0                              0   \n",
       "\n",
       "   ZLUF_SCHENKINTERESSE_DEVCOOP  ZLUF_SCHENKINTERESSE_HEALTHCARE  \\\n",
       "0                             0                                0   \n",
       "1                             0                                0   \n",
       "2                             0                                0   \n",
       "3                             0                                0   \n",
       "5                             0                                0   \n",
       "\n",
       "   ZLUF_SCHENKINTERESSE_HERITAGE  ZLUF_SCHENKINTERESSE_SCHOLARSHIPS  \\\n",
       "0                              0                                  0   \n",
       "1                              0                                  0   \n",
       "2                              0                                  0   \n",
       "3                              0                                  0   \n",
       "5                              0                                  0   \n",
       "\n",
       "   IS_MULTI_DONOR  \n",
       "0               1  \n",
       "1               1  \n",
       "2               1  \n",
       "3               1  \n",
       "5               1  \n",
       "\n",
       "[5 rows x 113 columns]"
      ]
     },
     "execution_count": 3,
     "metadata": {},
     "output_type": "execute_result"
    }
   ],
   "source": [
    "year_cols = ['ISK_FD_Y_2002','ISK_FD_Y_2003','ISK_FD_Y_2004','ISK_FD_Y_2005','ISK_FD_Y_2006','ISK_FD_Y_2007','ISK_FD_Y_2008',\n",
    "             'ISK_FD_Y_2009','ISK_FD_Y_2010','ISK_FD_Y_2011','ISK_FD_Y_2012','ISK_FD_Y_2013','ISK_FD_Y_2014','ISK_FD_Y_2015',\n",
    "             'ISK_FD_Y_2016','ISK_FD_Y_2017','ISK_FD_Y_2018']\n",
    "train_data = question2_prepared_data[(question2_prepared_data['ISK_FD_Y_2017']==0) & \n",
    "                                     (question2_prepared_data['ISK_FD_Y_2018']==0)]\n",
    "train_data = train_data.drop(year_cols,axis='columns')\n",
    "print(train_data.shape)\n",
    "print('Number of multi-donors in training set: ' + str(train_data['IS_MULTI_DONOR'].sum()))\n",
    "train_data.head()"
   ]
  },
  {
   "cell_type": "code",
   "execution_count": 4,
   "metadata": {},
   "outputs": [
    {
     "name": "stdout",
     "output_type": "stream",
     "text": [
      "(10691, 113)\n",
      "Number of multi-donors in test set: 929\n"
     ]
    },
    {
     "data": {
      "text/html": [
       "<div>\n",
       "<style scoped>\n",
       "    .dataframe tbody tr th:only-of-type {\n",
       "        vertical-align: middle;\n",
       "    }\n",
       "\n",
       "    .dataframe tbody tr th {\n",
       "        vertical-align: top;\n",
       "    }\n",
       "\n",
       "    .dataframe thead th {\n",
       "        text-align: right;\n",
       "    }\n",
       "</style>\n",
       "<table border=\"1\" class=\"dataframe\">\n",
       "  <thead>\n",
       "    <tr style=\"text-align: right;\">\n",
       "      <th></th>\n",
       "      <th>PARTNER</th>\n",
       "      <th>XSEXF</th>\n",
       "      <th>XSEXM</th>\n",
       "      <th>ZZAMNT_PAYED</th>\n",
       "      <th>ZLUF_DOCDATE</th>\n",
       "      <th>ZZAMNT_PAYED_NORM</th>\n",
       "      <th>ISK_PERSON</th>\n",
       "      <th>ISK_BIRTHPL</th>\n",
       "      <th>ISK_BU_LANGU</th>\n",
       "      <th>ISK_CNT_ORIGIN</th>\n",
       "      <th>...</th>\n",
       "      <th>ZLUF_LIJST</th>\n",
       "      <th>ZLUF_ORG_ALS_PERSOON</th>\n",
       "      <th>ZLUF_ORG_VERENIGING</th>\n",
       "      <th>ZLUF_SCHENKINTERESSE_ARTnCULTURE</th>\n",
       "      <th>ZLUF_SCHENKINTERESSE_CHILDREN</th>\n",
       "      <th>ZLUF_SCHENKINTERESSE_DEVCOOP</th>\n",
       "      <th>ZLUF_SCHENKINTERESSE_HEALTHCARE</th>\n",
       "      <th>ZLUF_SCHENKINTERESSE_HERITAGE</th>\n",
       "      <th>ZLUF_SCHENKINTERESSE_SCHOLARSHIPS</th>\n",
       "      <th>IS_MULTI_DONOR</th>\n",
       "    </tr>\n",
       "  </thead>\n",
       "  <tbody>\n",
       "    <tr>\n",
       "      <th>4</th>\n",
       "      <td>200000024</td>\n",
       "      <td>0</td>\n",
       "      <td>0</td>\n",
       "      <td>20000.0</td>\n",
       "      <td>2018-01-03</td>\n",
       "      <td>20000.0</td>\n",
       "      <td>0</td>\n",
       "      <td>0</td>\n",
       "      <td>0</td>\n",
       "      <td>0</td>\n",
       "      <td>...</td>\n",
       "      <td>0</td>\n",
       "      <td>0</td>\n",
       "      <td>0</td>\n",
       "      <td>0</td>\n",
       "      <td>0</td>\n",
       "      <td>0</td>\n",
       "      <td>0</td>\n",
       "      <td>0</td>\n",
       "      <td>0</td>\n",
       "      <td>0</td>\n",
       "    </tr>\n",
       "    <tr>\n",
       "      <th>6</th>\n",
       "      <td>200000041</td>\n",
       "      <td>0</td>\n",
       "      <td>0</td>\n",
       "      <td>200.0</td>\n",
       "      <td>2018-04-24</td>\n",
       "      <td>200.0</td>\n",
       "      <td>0</td>\n",
       "      <td>0</td>\n",
       "      <td>0</td>\n",
       "      <td>0</td>\n",
       "      <td>...</td>\n",
       "      <td>0</td>\n",
       "      <td>0</td>\n",
       "      <td>0</td>\n",
       "      <td>0</td>\n",
       "      <td>0</td>\n",
       "      <td>0</td>\n",
       "      <td>0</td>\n",
       "      <td>0</td>\n",
       "      <td>0</td>\n",
       "      <td>1</td>\n",
       "    </tr>\n",
       "    <tr>\n",
       "      <th>7</th>\n",
       "      <td>200000054</td>\n",
       "      <td>0</td>\n",
       "      <td>0</td>\n",
       "      <td>125.0</td>\n",
       "      <td>2018-06-08</td>\n",
       "      <td>125.0</td>\n",
       "      <td>0</td>\n",
       "      <td>0</td>\n",
       "      <td>0</td>\n",
       "      <td>0</td>\n",
       "      <td>...</td>\n",
       "      <td>0</td>\n",
       "      <td>0</td>\n",
       "      <td>0</td>\n",
       "      <td>0</td>\n",
       "      <td>0</td>\n",
       "      <td>0</td>\n",
       "      <td>0</td>\n",
       "      <td>0</td>\n",
       "      <td>0</td>\n",
       "      <td>0</td>\n",
       "    </tr>\n",
       "    <tr>\n",
       "      <th>10</th>\n",
       "      <td>200000099</td>\n",
       "      <td>1</td>\n",
       "      <td>0</td>\n",
       "      <td>40.0</td>\n",
       "      <td>2017-09-21</td>\n",
       "      <td>40.0</td>\n",
       "      <td>1</td>\n",
       "      <td>1</td>\n",
       "      <td>1</td>\n",
       "      <td>0</td>\n",
       "      <td>...</td>\n",
       "      <td>0</td>\n",
       "      <td>0</td>\n",
       "      <td>0</td>\n",
       "      <td>0</td>\n",
       "      <td>0</td>\n",
       "      <td>0</td>\n",
       "      <td>0</td>\n",
       "      <td>0</td>\n",
       "      <td>0</td>\n",
       "      <td>0</td>\n",
       "    </tr>\n",
       "    <tr>\n",
       "      <th>12</th>\n",
       "      <td>200000129</td>\n",
       "      <td>1</td>\n",
       "      <td>0</td>\n",
       "      <td>50.0</td>\n",
       "      <td>2018-08-07</td>\n",
       "      <td>50.0</td>\n",
       "      <td>1</td>\n",
       "      <td>1</td>\n",
       "      <td>1</td>\n",
       "      <td>0</td>\n",
       "      <td>...</td>\n",
       "      <td>0</td>\n",
       "      <td>0</td>\n",
       "      <td>0</td>\n",
       "      <td>0</td>\n",
       "      <td>0</td>\n",
       "      <td>0</td>\n",
       "      <td>0</td>\n",
       "      <td>0</td>\n",
       "      <td>0</td>\n",
       "      <td>0</td>\n",
       "    </tr>\n",
       "  </tbody>\n",
       "</table>\n",
       "<p>5 rows × 113 columns</p>\n",
       "</div>"
      ],
      "text/plain": [
       "      PARTNER  XSEXF  XSEXM  ZZAMNT_PAYED ZLUF_DOCDATE  ZZAMNT_PAYED_NORM  \\\n",
       "4   200000024      0      0       20000.0   2018-01-03            20000.0   \n",
       "6   200000041      0      0         200.0   2018-04-24              200.0   \n",
       "7   200000054      0      0         125.0   2018-06-08              125.0   \n",
       "10  200000099      1      0          40.0   2017-09-21               40.0   \n",
       "12  200000129      1      0          50.0   2018-08-07               50.0   \n",
       "\n",
       "    ISK_PERSON  ISK_BIRTHPL  ISK_BU_LANGU  ISK_CNT_ORIGIN       ...        \\\n",
       "4            0            0             0               0       ...         \n",
       "6            0            0             0               0       ...         \n",
       "7            0            0             0               0       ...         \n",
       "10           1            1             1               0       ...         \n",
       "12           1            1             1               0       ...         \n",
       "\n",
       "    ZLUF_LIJST  ZLUF_ORG_ALS_PERSOON  ZLUF_ORG_VERENIGING  \\\n",
       "4            0                     0                    0   \n",
       "6            0                     0                    0   \n",
       "7            0                     0                    0   \n",
       "10           0                     0                    0   \n",
       "12           0                     0                    0   \n",
       "\n",
       "    ZLUF_SCHENKINTERESSE_ARTnCULTURE  ZLUF_SCHENKINTERESSE_CHILDREN  \\\n",
       "4                                  0                              0   \n",
       "6                                  0                              0   \n",
       "7                                  0                              0   \n",
       "10                                 0                              0   \n",
       "12                                 0                              0   \n",
       "\n",
       "    ZLUF_SCHENKINTERESSE_DEVCOOP  ZLUF_SCHENKINTERESSE_HEALTHCARE  \\\n",
       "4                              0                                0   \n",
       "6                              0                                0   \n",
       "7                              0                                0   \n",
       "10                             0                                0   \n",
       "12                             0                                0   \n",
       "\n",
       "    ZLUF_SCHENKINTERESSE_HERITAGE  ZLUF_SCHENKINTERESSE_SCHOLARSHIPS  \\\n",
       "4                               0                                  0   \n",
       "6                               0                                  0   \n",
       "7                               0                                  0   \n",
       "10                              0                                  0   \n",
       "12                              0                                  0   \n",
       "\n",
       "    IS_MULTI_DONOR  \n",
       "4                0  \n",
       "6                1  \n",
       "7                0  \n",
       "10               0  \n",
       "12               0  \n",
       "\n",
       "[5 rows x 113 columns]"
      ]
     },
     "execution_count": 4,
     "metadata": {},
     "output_type": "execute_result"
    }
   ],
   "source": [
    "test_data = question2_prepared_data[(question2_prepared_data['ISK_FD_Y_2017']==1) | \n",
    "                                    (question2_prepared_data['ISK_FD_Y_2018']==1)]\n",
    "test_data = test_data.drop(year_cols,axis='columns')\n",
    "print(test_data.shape)\n",
    "print('Number of multi-donors in test set: ' + str(test_data['IS_MULTI_DONOR'].sum()))\n",
    "test_data.head()"
   ]
  },
  {
   "cell_type": "code",
   "execution_count": 5,
   "metadata": {},
   "outputs": [
    {
     "name": "stdout",
     "output_type": "stream",
     "text": [
      "TRAIN    46206\n",
      "TEST     10691\n",
      "Name: TRAIN_TEST, dtype: int64\n"
     ]
    },
    {
     "data": {
      "image/png": "[encoded data removed]",
      "text/plain": [
       "<Figure size 432x288 with 1 Axes>"
      ]
     },
     "metadata": {
      "needs_background": "light"
     },
     "output_type": "display_data"
    }
   ],
   "source": [
    "df = question2_prepared_data.copy()\n",
    "df['TRAIN_TEST'] = ((question2_prepared_data['ISK_FD_Y_2017']==0) & \n",
    "                    (question2_prepared_data['ISK_FD_Y_2018']==0)).astype(str).replace('True','TRAIN').replace('False','TEST')\n",
    "print(df['TRAIN_TEST'].value_counts())\n",
    "pivot_df = df.pivot_table(index=\"TRAIN_TEST\",values=\"IS_MULTI_DONOR\")\n",
    "pivot_df = pivot_df.reindex(['TRAIN','TEST'])\n",
    "pivot_df.plot.bar()\n",
    "plt.ylabel('Likelihood')\n",
    "plt.show()"
   ]
  },
  {
   "cell_type": "markdown",
   "metadata": {},
   "source": [
    "As expected, the percentage of multi-donors is high in training set than in test set. <br>\n",
    "\n",
    "This is because some of the multi-donors need some time to donate again to the LUF after their first donation. <br>\n",
    "This means some of the donors in the test set can still donate to LUF again in the future, but as of now they are not classified as multi-donors."
   ]
  },
  {
   "cell_type": "markdown",
   "metadata": {},
   "source": [
    "In the below cell we remove some of the features that hinder the performance of the classifier"
   ]
  },
  {
   "cell_type": "code",
   "execution_count": 6,
   "metadata": {},
   "outputs": [],
   "source": [
    "relevant_cols = list(train_data.columns.values)\n",
    "\n",
    "train_data.index = train_data['PARTNER'] #Set the index to be equal to that of PARTNER\n",
    "test_data.index = test_data['PARTNER'] #Set the index to be equal to that of PARTNER\n",
    "\n",
    "if \"PARTNER\" in str(relevant_cols):\n",
    "    relevant_cols.remove(\"PARTNER\")\n",
    "if \"ZLUF_DOCDATE\" in str(relevant_cols):\n",
    "    relevant_cols.remove(\"ZLUF_DOCDATE\")\n",
    "if \"ZZAMNT_PAYED_NORM\" in str(relevant_cols):\n",
    "    relevant_cols.remove(\"ZZAMNT_PAYED_NORM\")\n",
    "#if \"ZZAMNT_PAYED\" in str(relevant_cols):\n",
    "#    relevant_cols.remove(\"ZZAMNT_PAYED\")\n",
    "\n",
    "if \"ISK_FD_CAT_1\" in str(relevant_cols):\n",
    "    relevant_cols.remove(\"ISK_FD_CAT_1\")\n",
    "if \"ISK_FD_CAT_2\" in str(relevant_cols):\n",
    "    relevant_cols.remove(\"ISK_FD_CAT_2\")\n",
    "if \"ISK_FD_CAT_3\" in str(relevant_cols):\n",
    "    relevant_cols.remove(\"ISK_FD_CAT_3\")\n",
    "if \"ISK_FD_CAT_4\" in str(relevant_cols):\n",
    "    relevant_cols.remove(\"ISK_FD_CAT_4\")\n",
    "if \"ISK_FD_CAT_5\" in str(relevant_cols):\n",
    "    relevant_cols.remove(\"ISK_FD_CAT_5\")\n",
    "if \"ISK_FD_CAT_6\" in str(relevant_cols):\n",
    "    relevant_cols.remove(\"ISK_FD_CAT_6\")\n",
    "    \n",
    "#if \"ISK_FD_SHARED\" in str(relevant_cols):\n",
    "#    relevant_cols.remove(\"ISK_FD_SHARED\")   "
   ]
  },
  {
   "cell_type": "markdown",
   "metadata": {},
   "source": [
    "Shuffle the training & testing data"
   ]
  },
  {
   "cell_type": "code",
   "execution_count": 7,
   "metadata": {},
   "outputs": [],
   "source": [
    "train_cols = relevant_cols.copy()\n",
    "if \"IS_MULTI_DONOR\" in str(train_cols):\n",
    "    train_cols.remove(\"IS_MULTI_DONOR\")\n",
    "    \n",
    "train_data = train_data.sample(frac=1,random_state=1)\n",
    "test_data = test_data.sample(frac=1,random_state=1)\n",
    "    \n",
    "train_X = train_data[train_cols].copy()\n",
    "train_y = train_data[\"IS_MULTI_DONOR\"].copy()\n",
    "\n",
    "test_X = test_data[train_cols].copy()\n",
    "test_y = test_data[\"IS_MULTI_DONOR\"].copy()"
   ]
  },
  {
   "cell_type": "code",
   "execution_count": null,
   "metadata": {},
   "outputs": [],
   "source": []
  },
  {
   "cell_type": "markdown",
   "metadata": {},
   "source": [
    "# Random Forest"
   ]
  },
  {
   "cell_type": "code",
   "execution_count": 8,
   "metadata": {},
   "outputs": [
    {
     "name": "stdout",
     "output_type": "stream",
     "text": [
      "(46206, 103)\n"
     ]
    },
    {
     "data": {
      "text/plain": [
       "0.3836791055360323"
      ]
     },
     "execution_count": 8,
     "metadata": {},
     "output_type": "execute_result"
    }
   ],
   "source": [
    "#Random Forest baseline\n",
    "train_X_bl = train_X.copy()\n",
    "test_X_bl = test_X.copy()\n",
    "train_y_bl = train_y.copy()\n",
    "test_y_bl = test_y.copy()\n",
    "\n",
    "print(train_X_bl.shape)\n",
    "\n",
    "rf = RandomForestClassifier(random_state=1)\n",
    "rf.fit(train_X_bl,train_y_bl)\n",
    "\n",
    "scores = cross_val_score(rf, train_X_bl, train_y_bl, cv=5, scoring='recall')\n",
    "scores.mean()"
   ]
  },
  {
   "cell_type": "markdown",
   "metadata": {},
   "source": [
    "## Feature Selection - Random Forest"
   ]
  },
  {
   "cell_type": "code",
   "execution_count": 9,
   "metadata": {},
   "outputs": [
    {
     "name": "stdout",
     "output_type": "stream",
     "text": [
      "Index(['ZZAMNT_PAYED', 'ISK_COMM_LET', 'ISK_FD_BANKN', 'ISK_PRO_FB',\n",
      "       'NUM_D_TYL', 'REL_ORGCP', 'REL_BUR998', 'REL_Z00001'],\n",
      "      dtype='object')\n"
     ]
    }
   ],
   "source": [
    "#Recursive Feature Elimination (RFE)\n",
    "X = train_X.copy()\n",
    "t_X = test_X.copy()\n",
    "y = train_y.copy()\n",
    "t_y = test_y.copy()\n",
    "\n",
    "rf = RandomForestClassifier(random_state=1)\n",
    "selector_rf = RFECV(rf, cv=5,scoring='recall')  #Tune via recall to get the best performance, in terms of accuracy, recall etc\n",
    "selector_rf.fit(X, y)\n",
    "optimized_columns_rf = X.columns[selector_rf.support_]\n",
    "print(optimized_columns_rf)"
   ]
  },
  {
   "cell_type": "code",
   "execution_count": 10,
   "metadata": {},
   "outputs": [
    {
     "name": "stdout",
     "output_type": "stream",
     "text": [
      "(46206, 8)\n"
     ]
    },
    {
     "data": {
      "text/plain": [
       "0.43354200482216304"
      ]
     },
     "execution_count": 10,
     "metadata": {},
     "output_type": "execute_result"
    }
   ],
   "source": [
    "train_X_fs = train_X[optimized_columns_rf].copy()\n",
    "test_X_fs = test_X[optimized_columns_rf].copy()\n",
    "train_y_fs = train_y.copy()\n",
    "test_y_fs = test_y.copy()\n",
    "\n",
    "print(train_X_fs.shape)\n",
    "\n",
    "rf_fs = RandomForestClassifier(random_state=1)\n",
    "rf_fs.fit(train_X_fs,train_y_fs)\n",
    "\n",
    "scores = cross_val_score(rf_fs, train_X_fs, train_y_fs, cv=5, scoring='recall')\n",
    "scores.mean()"
   ]
  },
  {
   "cell_type": "markdown",
   "metadata": {},
   "source": [
    "## Hyper-parameter tuning - Random Forest"
   ]
  },
  {
   "cell_type": "code",
   "execution_count": null,
   "metadata": {},
   "outputs": [],
   "source": [
    "#Hyperparameter Tuning Random forest using different scorers\n",
    "train_X_fs_hpt = train_X[optimized_columns_rf].copy()\n",
    "test_X_fs_hpt = test_X[optimized_columns_rf].copy()\n",
    "train_y_fs_hpt = train_y.copy()\n",
    "test_y_fs_hpt = test_y.copy()\n",
    "\n",
    "scorers = {\n",
    "    'precision_score': make_scorer(precision_score),\n",
    "    'recall_score': make_scorer(recall_score),\n",
    "    'accuracy_score': make_scorer(accuracy_score),\n",
    "    'f1_score': make_scorer(f1_score)\n",
    "}\n",
    "\n",
    "criterion = [\"entropy\",\"gini\"]\n",
    "min_weight_fraction_leaf = [0.001, 0.0025, 0.005, 0.0075, 0.009, 0.01]\n",
    "class_weight=['balanced','balanced_subsample',{0:.1, 1: .9},{0:.2, 1: .8},{0:.01, 1: .99},{0:.001, 1: .999},\n",
    "              {0:.9, 1: .1},{0:.8, 1: .2},None]\n",
    "n_estimators = [10, 25, 50, 100, 250]\n",
    "max_features = ['auto', 'sqrt', 'log2', None]\n",
    "bootstrap = [True, False]\n",
    "random_state = [1]\n",
    "n_jobs=[1]\n",
    "min_samples_leaf = [0.1, 0.2, 0.3, 0.4, 0.5] #should be >0 & <= 0.5\n",
    "min_samples_split = [0.1, 0.25, 0.5, 0.75, 0.9, 1.0] #should be >0 & <= 1.0\n",
    "random_grid = {'criterion': criterion,\n",
    "               'min_weight_fraction_leaf':min_weight_fraction_leaf,\n",
    "               'class_weight':class_weight,\n",
    "               'n_estimators': n_estimators,\n",
    "               'max_features': max_features,\n",
    "               'bootstrap': bootstrap,\n",
    "               'random_state': random_state,\n",
    "               'n_jobs':n_jobs,\n",
    "               'min_samples_leaf': min_samples_leaf,\n",
    "               'min_samples_split': min_samples_split}\n",
    "rf = RandomForestClassifier()\n",
    "rf_random = RandomizedSearchCV(estimator = rf, param_distributions = random_grid, n_iter = 500, cv = 5, verbose=2, \n",
    "                               random_state=42, n_jobs = -1, scoring=scorers,refit='recall_score')\n",
    "rf_random.fit(train_X_fs_hpt, train_y_fs_hpt)\n",
    "rf_random.best_params_"
   ]
  },
  {
   "cell_type": "code",
   "execution_count": null,
   "metadata": {},
   "outputs": [],
   "source": [
    "results = pd.DataFrame(rf_random.cv_results_)\n",
    "results = results.sort_values(by='mean_train_accuracy_score', ascending=False)\n",
    "results = results[['params','mean_test_precision_score','mean_train_precision_score','mean_test_recall_score',\n",
    "         'mean_train_recall_score','mean_test_accuracy_score','mean_train_accuracy_score','mean_test_f1_score',\n",
    "         'mean_train_f1_score']]\n",
    "results = results[(results['mean_train_f1_score']>=0.4) & (results['mean_train_accuracy_score']>=0.6)]\n",
    "results = results.sort_values(by='mean_train_recall_score', ascending=False)\n",
    "results.to_csv('SQLDATA\\PYTHON_OUTPUTS\\RF_randomizedSearchCV_output.csv') #Save it to be used later (below cell)\n",
    "rf_best_params = results['params'].iloc[0]\n",
    "print(results.shape)\n",
    "results.head()"
   ]
  },
  {
   "cell_type": "code",
   "execution_count": 11,
   "metadata": {},
   "outputs": [],
   "source": [
    "#Get the best parameters from the saved file\n",
    "rf_best_params = ast.literal_eval(pd.read_csv('SQLDATA\\PYTHON_OUTPUTS\\RF_randomizedSearchCV_output.csv')['params'].iloc[0])"
   ]
  },
  {
   "cell_type": "code",
   "execution_count": 12,
   "metadata": {},
   "outputs": [
    {
     "name": "stdout",
     "output_type": "stream",
     "text": [
      "(46206, 8)\n"
     ]
    },
    {
     "data": {
      "text/plain": [
       "0.5848691502382191"
      ]
     },
     "execution_count": 12,
     "metadata": {},
     "output_type": "execute_result"
    }
   ],
   "source": [
    "train_X_fs_hpt = train_X[optimized_columns_rf].copy()\n",
    "test_X_fs_hpt = test_X[optimized_columns_rf].copy()\n",
    "train_y_fs_hpt = train_y.copy()\n",
    "test_y_fs_hpt = test_y.copy()\n",
    "\n",
    "print(train_X_fs_hpt.shape)\n",
    "rf_fs_hpt = RandomForestClassifier(random_state=rf_best_params['random_state'], n_estimators=rf_best_params['n_estimators'],\n",
    "                            min_weight_fraction_leaf=rf_best_params['min_weight_fraction_leaf'],\n",
    "                            min_samples_split=rf_best_params['min_samples_split'],\n",
    "                            min_samples_leaf=rf_best_params['min_samples_leaf'],max_features=rf_best_params['max_features'],\n",
    "                            criterion=rf_best_params['criterion'],class_weight=rf_best_params['class_weight'],\n",
    "                            bootstrap=rf_best_params['bootstrap'])\n",
    "rf_fs_hpt.fit(train_X_fs_hpt,train_y_fs_hpt)\n",
    "\n",
    "scores = cross_val_score(rf_fs_hpt, train_X_fs_hpt, train_y_fs_hpt, cv=5, scoring='recall')\n",
    "scores.mean()"
   ]
  },
  {
   "cell_type": "code",
   "execution_count": 13,
   "metadata": {},
   "outputs": [
    {
     "data": {
      "image/png": "[encoded data removed]",
      "text/plain": [
       "<Figure size 432x288 with 1 Axes>"
      ]
     },
     "metadata": {
      "needs_background": "light"
     },
     "output_type": "display_data"
    }
   ],
   "source": [
    "y_scores = cross_val_predict(rf_fs_hpt, train_X_fs_hpt, train_y_fs_hpt, cv=5,\n",
    "                             method=\"predict_proba\")\n",
    "positive_y_scores = []\n",
    "for score in y_scores:\n",
    "    positive_y_scores.append(score[1])\n",
    "\n",
    "precisions, recalls, thresholds = precision_recall_curve(train_y_fs_hpt, np.array(positive_y_scores))\n",
    "\n",
    "plt.plot(thresholds,precisions[1:],color='green',label='precision')\n",
    "plt.plot(thresholds,recalls[1:],color='orange',label='recall')\n",
    "plt.legend()\n",
    "plt.show()"
   ]
  },
  {
   "cell_type": "code",
   "execution_count": 14,
   "metadata": {
    "scrolled": false
   },
   "outputs": [
    {
     "data": {
      "text/plain": [
       "Text(0.5, 0, 'Features')"
      ]
     },
     "execution_count": 14,
     "metadata": {},
     "output_type": "execute_result"
    },
    {
     "data": {
      "image/png": "[encoded data removed]",
      "text/plain": [
       "<Figure size 432x288 with 1 Axes>"
      ]
     },
     "metadata": {
      "needs_background": "light"
     },
     "output_type": "display_data"
    }
   ],
   "source": [
    "feat_importances = pd.Series(rf_fs_hpt.feature_importances_, index=list(optimized_columns_rf))\n",
    "feat_importances.nlargest(25).plot(kind='bar')\n",
    "plt.title('Feature Importance Plot')\n",
    "plt.ylabel('Relative Importance')\n",
    "plt.xlabel('Features')"
   ]
  },
  {
   "cell_type": "markdown",
   "metadata": {},
   "source": [
    "The following features are the most important ones according to Random Forest Classifier\n",
    "- <b>ISK_COMM_LET</b>: (bool) Is method of communication with the donor through LETTER\n",
    "- <b>ISK_FD_BANKN</b>: (bool) Is the bank account of donor known\n",
    "- <b>ISK_PRO_FB</b>: (bool) Is the donor donating from Flemish Brabant province\n",
    "- <b>REL_Z00001</b>: (int) Number of alumni circles to which the donor belongs\n",
    "- <b>NUM_D_TYL</b>: (int) Number of days LUF took to send the thank you letter to donors after their first donation\n",
    "- <b>ZZAMNT_PAYED</b>: (int) Amount payed by the donors on their first donation\n",
    "- <b>REL_BUR998</b>: (int) Number of LUF business parters with which the given donor has/had a relationships\n",
    "- <b>REL_ORGCP</b>: (int) Number of organizations for which the given donor is a person of contact"
   ]
  },
  {
   "cell_type": "markdown",
   "metadata": {},
   "source": [
    "Plot a correlation plot with the top 25 features with highest feature importance used by Random Forest Classifier."
   ]
  },
  {
   "cell_type": "code",
   "execution_count": 15,
   "metadata": {},
   "outputs": [
    {
     "data": {
      "image/png": "[encoded data removed]",
      "text/plain": [
       "<Figure size 792x648 with 2 Axes>"
      ]
     },
     "metadata": {},
     "output_type": "display_data"
    }
   ],
   "source": [
    "rg_top25_coeffs_cols = list(feat_importances.nlargest(25).index) + ['IS_MULTI_DONOR']\n",
    "def plot_correlation_heatmap(df):\n",
    "    corr = df.corr()\n",
    "    \n",
    "    sns.set(style=\"white\")\n",
    "    mask = np.zeros_like(corr, dtype=np.bool)\n",
    "    mask[np.triu_indices_from(mask)] = True\n",
    "\n",
    "    f, ax = plt.subplots(figsize=(11, 9))\n",
    "    cmap = sns.diverging_palette(220, 10, as_cmap=True)\n",
    "\n",
    "\n",
    "    sns.heatmap(corr, mask=mask, cmap=cmap, vmax=.3, center=0,\n",
    "            square=True, linewidths=.5, cbar_kws={\"shrink\": .5})\n",
    "    plt.show()\n",
    "\n",
    "plot_correlation_heatmap(question2_prepared_data[rg_top25_coeffs_cols])"
   ]
  },
  {
   "cell_type": "markdown",
   "metadata": {},
   "source": [
    "# Logistic Regression"
   ]
  },
  {
   "cell_type": "code",
   "execution_count": 16,
   "metadata": {},
   "outputs": [
    {
     "name": "stdout",
     "output_type": "stream",
     "text": [
      "(46206, 103)\n"
     ]
    },
    {
     "data": {
      "text/plain": [
       "0.2914913773631488"
      ]
     },
     "execution_count": 16,
     "metadata": {},
     "output_type": "execute_result"
    }
   ],
   "source": [
    "#Logistic Regression Baseline\n",
    "train_X_bl = train_X.copy()\n",
    "test_X_bl = test_X.copy()\n",
    "train_y_bl = train_y.copy()\n",
    "test_y_bl = test_y.copy()\n",
    "\n",
    "print(train_X_bl.shape)\n",
    "\n",
    "lr = LogisticRegression()\n",
    "lr.fit(train_X_bl,train_y_bl)\n",
    "\n",
    "scores = cross_val_score(lr, train_X_bl, train_y_bl, cv=5, scoring='recall')\n",
    "scores.mean()"
   ]
  },
  {
   "cell_type": "markdown",
   "metadata": {},
   "source": [
    "## Feature Selection - Logistic Regression"
   ]
  },
  {
   "cell_type": "code",
   "execution_count": 17,
   "metadata": {},
   "outputs": [
    {
     "name": "stdout",
     "output_type": "stream",
     "text": [
      "Index(['XSEXF', 'XSEXM', 'ISK_PERSON', 'ISK_BIRTHPL', 'ISK_BU_LANGU',\n",
      "       'ISK_CNT_ORIGIN', 'ISK_NATIONALITY', 'ISK_VOORNAAM', 'ISK_LANGU_CORR',\n",
      "       'ISK_MARST',\n",
      "       ...\n",
      "       'ZLUF_KERKELIJK', 'ZLUF_LIJST', 'ZLUF_ORG_ALS_PERSOON',\n",
      "       'ZLUF_ORG_VERENIGING', 'ZLUF_SCHENKINTERESSE_ARTnCULTURE',\n",
      "       'ZLUF_SCHENKINTERESSE_CHILDREN', 'ZLUF_SCHENKINTERESSE_DEVCOOP',\n",
      "       'ZLUF_SCHENKINTERESSE_HEALTHCARE', 'ZLUF_SCHENKINTERESSE_HERITAGE',\n",
      "       'ZLUF_SCHENKINTERESSE_SCHOLARSHIPS'],\n",
      "      dtype='object', length=101)\n"
     ]
    }
   ],
   "source": [
    "#Recursive Feature Elimination (RFE)\n",
    "X = train_X.copy()\n",
    "t_X = test_X.copy()\n",
    "y = train_y.copy()\n",
    "t_y = test_y.copy()\n",
    "\n",
    "lr = LogisticRegression()\n",
    "selector_lr = RFECV(lr, cv=5,scoring='recall')\n",
    "selector_lr.fit(X, y)\n",
    "optimized_columns_lr = X.columns[selector_lr.support_]\n",
    "print(optimized_columns_lr)"
   ]
  },
  {
   "cell_type": "code",
   "execution_count": 18,
   "metadata": {},
   "outputs": [
    {
     "name": "stdout",
     "output_type": "stream",
     "text": [
      "(46206, 101)\n"
     ]
    },
    {
     "data": {
      "text/plain": [
       "0.2914913773631488"
      ]
     },
     "execution_count": 18,
     "metadata": {},
     "output_type": "execute_result"
    }
   ],
   "source": [
    "#Logistic Regression + Feature Selection\n",
    "train_X_fs = train_X[optimized_columns_lr].copy()\n",
    "test_X_fs = test_X[optimized_columns_lr].copy()\n",
    "train_y_fs = train_y.copy()\n",
    "test_y_fs = test_y.copy()\n",
    "\n",
    "print(train_X_fs.shape)\n",
    "\n",
    "lr_fs = LogisticRegression()\n",
    "lr_fs.fit(train_X_fs,train_y_fs)\n",
    "\n",
    "scores = cross_val_score(lr_fs, train_X_bl, train_y_bl, cv=5, scoring='recall')\n",
    "scores.mean()"
   ]
  },
  {
   "cell_type": "markdown",
   "metadata": {},
   "source": [
    "## Hyper-parameter tuning - Logistic Regression"
   ]
  },
  {
   "cell_type": "code",
   "execution_count": null,
   "metadata": {},
   "outputs": [],
   "source": [
    "#Hyper-parameter tuning for Logistic Regression using RamdomizedSearchCV\n",
    "train_X_fs_hpt = train_X[optimized_columns_lr].copy()\n",
    "test_X_fs_hpt = test_X[optimized_columns_lr].copy()\n",
    "train_y_fs_hpt = train_y.copy()\n",
    "test_y_fs_hpt = test_y.copy()\n",
    "\n",
    "scorers = {\n",
    "    'precision_score': make_scorer(precision_score),\n",
    "    'recall_score': make_scorer(recall_score),\n",
    "    'accuracy_score': make_scorer(accuracy_score),\n",
    "    'f1_score': make_scorer(f1_score)\n",
    "}\n",
    "tol=[0.0001,0.001,0.005,0.01,0.05,0.1]\n",
    "c = [1.0,2.0,5.0]\n",
    "fit_intercept = [True,False]\n",
    "intercept_scaling = [1,2,5,10]\n",
    "class_weight = ['balanced',None]\n",
    "solver = ['newton-cg', 'lbfgs', 'liblinear']\n",
    "max_iter = [20,50,100,200]\n",
    "random_grid = {'tol': tol,\n",
    "               'C': c,\n",
    "               'fit_intercept': fit_intercept,\n",
    "               'intercept_scaling': intercept_scaling,\n",
    "               'class_weight': class_weight,\n",
    "               'solver': solver,\n",
    "               'max_iter': max_iter}\n",
    "lr = LogisticRegression()\n",
    "lr_random = RandomizedSearchCV(estimator = lr, param_distributions = random_grid, n_iter = 500, cv = 5, verbose=2, \n",
    "                               random_state=42, n_jobs = -1,scoring=scorers,refit='recall_score')\n",
    "lr_random.fit(train_X_fs_hpt, train_y_fs_hpt)\n",
    "lr_random.best_params_"
   ]
  },
  {
   "cell_type": "code",
   "execution_count": null,
   "metadata": {},
   "outputs": [],
   "source": [
    "results = pd.DataFrame(lr_random.cv_results_)\n",
    "results = results.sort_values(by='mean_train_accuracy_score', ascending=False)\n",
    "results = results[['params','mean_test_precision_score','mean_train_precision_score','mean_test_recall_score',\n",
    "         'mean_train_recall_score','mean_test_accuracy_score','mean_train_accuracy_score','mean_test_f1_score',\n",
    "         'mean_train_f1_score']]\n",
    "results.to_csv('SQLDATA\\PYTHON_OUTPUTS\\LR_randomizedSearchCV_output.csv')\n",
    "results = results[(results['mean_train_f1_score']>=0.4) & (results['mean_train_accuracy_score']>=0.6)]\n",
    "results = results.sort_values(by='mean_train_recall_score', ascending=False)\n",
    "results.to_csv('SQLDATA\\PYTHON_OUTPUTS\\LR_randomizedSearchCV_output.csv')  #Save it to be used later (below cell)\n",
    "lr_best_params = results['params'].iloc[0]\n",
    "print(results.shape)\n",
    "results.head()"
   ]
  },
  {
   "cell_type": "code",
   "execution_count": 19,
   "metadata": {},
   "outputs": [],
   "source": [
    "#Get the best parameters from the saved file\n",
    "lr_best_params = ast.literal_eval(pd.read_csv('SQLDATA\\PYTHON_OUTPUTS\\LR_randomizedSearchCV_output.csv')['params'].iloc[0])"
   ]
  },
  {
   "cell_type": "code",
   "execution_count": 20,
   "metadata": {},
   "outputs": [
    {
     "name": "stdout",
     "output_type": "stream",
     "text": [
      "(46206, 101)\n"
     ]
    },
    {
     "data": {
      "text/plain": [
       "0.5990006356010106"
      ]
     },
     "execution_count": 20,
     "metadata": {},
     "output_type": "execute_result"
    }
   ],
   "source": [
    "#Logistic Regression + Feature Selection + Hyperparameter Tuning\n",
    "train_X_fs_hpt = train_X[optimized_columns_lr].copy()\n",
    "test_X_fs_hpt = test_X[optimized_columns_lr].copy()\n",
    "train_y_fs_hpt = train_y.copy()\n",
    "test_y_fs_hpt = test_y.copy()\n",
    "\n",
    "\n",
    "print(train_X_fs_hpt.shape)\n",
    "\n",
    "\n",
    "lr_fs_hpt = LogisticRegression(tol=lr_best_params['tol'],solver=lr_best_params['solver'],max_iter=lr_best_params['max_iter'],\n",
    "                               intercept_scaling=lr_best_params['intercept_scaling'],\n",
    "                               fit_intercept=lr_best_params['fit_intercept'],\n",
    "                               class_weight=lr_best_params['class_weight'],C=lr_best_params['C'])\n",
    "lr_fs_hpt.fit(train_X_fs_hpt,train_y_fs_hpt)\n",
    "\n",
    "scores = cross_val_score(lr_fs_hpt, train_X_fs_hpt, train_y_fs_hpt, cv=5, scoring='recall')\n",
    "scores.mean()"
   ]
  },
  {
   "cell_type": "code",
   "execution_count": 21,
   "metadata": {},
   "outputs": [
    {
     "data": {
      "image/png": "[encoded data removed]",
      "text/plain": [
       "<Figure size 432x288 with 1 Axes>"
      ]
     },
     "metadata": {},
     "output_type": "display_data"
    }
   ],
   "source": [
    "y_scores = cross_val_predict(lr_fs_hpt, train_X_fs_hpt, train_y_fs_hpt, cv=5,\n",
    "                             method=\"predict_proba\")\n",
    "positive_y_scores = []\n",
    "for score in y_scores:\n",
    "    positive_y_scores.append(score[1])\n",
    "\n",
    "precisions, recalls, thresholds = precision_recall_curve(train_y_fs_hpt, np.array(positive_y_scores))\n",
    "\n",
    "plt.plot(thresholds,precisions[1:],color='green',label='precision')\n",
    "plt.plot(thresholds,recalls[1:],color='orange',label='recall')\n",
    "plt.legend()\n",
    "plt.show()"
   ]
  },
  {
   "cell_type": "code",
   "execution_count": 22,
   "metadata": {},
   "outputs": [
    {
     "data": {
      "text/html": [
       "<div>\n",
       "<style scoped>\n",
       "    .dataframe tbody tr th:only-of-type {\n",
       "        vertical-align: middle;\n",
       "    }\n",
       "\n",
       "    .dataframe tbody tr th {\n",
       "        vertical-align: top;\n",
       "    }\n",
       "\n",
       "    .dataframe thead th {\n",
       "        text-align: right;\n",
       "    }\n",
       "</style>\n",
       "<table border=\"1\" class=\"dataframe\">\n",
       "  <thead>\n",
       "    <tr style=\"text-align: right;\">\n",
       "      <th></th>\n",
       "      <th>Cols</th>\n",
       "      <th>Coef</th>\n",
       "    </tr>\n",
       "  </thead>\n",
       "  <tbody>\n",
       "    <tr>\n",
       "      <th>0</th>\n",
       "      <td>ISK_COMM_LET</td>\n",
       "      <td>0.834516</td>\n",
       "    </tr>\n",
       "    <tr>\n",
       "      <th>1</th>\n",
       "      <td>REL_ORGCP</td>\n",
       "      <td>0.750796</td>\n",
       "    </tr>\n",
       "    <tr>\n",
       "      <th>2</th>\n",
       "      <td>ISK_VOORNAAM</td>\n",
       "      <td>0.736406</td>\n",
       "    </tr>\n",
       "    <tr>\n",
       "      <th>3</th>\n",
       "      <td>REL_BUR998</td>\n",
       "      <td>0.705129</td>\n",
       "    </tr>\n",
       "    <tr>\n",
       "      <th>4</th>\n",
       "      <td>ISK_FD_VGS</td>\n",
       "      <td>0.552933</td>\n",
       "    </tr>\n",
       "    <tr>\n",
       "      <th>5</th>\n",
       "      <td>ISK_FD_M_12</td>\n",
       "      <td>0.481146</td>\n",
       "    </tr>\n",
       "    <tr>\n",
       "      <th>6</th>\n",
       "      <td>ISK_FD_TAX_NE</td>\n",
       "      <td>0.456193</td>\n",
       "    </tr>\n",
       "    <tr>\n",
       "      <th>7</th>\n",
       "      <td>REL_BUR021</td>\n",
       "      <td>0.415371</td>\n",
       "    </tr>\n",
       "    <tr>\n",
       "      <th>8</th>\n",
       "      <td>ISK_FD_M_1</td>\n",
       "      <td>0.377594</td>\n",
       "    </tr>\n",
       "    <tr>\n",
       "      <th>9</th>\n",
       "      <td>ISK_FD_M_8</td>\n",
       "      <td>0.349475</td>\n",
       "    </tr>\n",
       "  </tbody>\n",
       "</table>\n",
       "</div>"
      ],
      "text/plain": [
       "            Cols      Coef\n",
       "0   ISK_COMM_LET  0.834516\n",
       "1      REL_ORGCP  0.750796\n",
       "2   ISK_VOORNAAM  0.736406\n",
       "3     REL_BUR998  0.705129\n",
       "4     ISK_FD_VGS  0.552933\n",
       "5    ISK_FD_M_12  0.481146\n",
       "6  ISK_FD_TAX_NE  0.456193\n",
       "7     REL_BUR021  0.415371\n",
       "8     ISK_FD_M_1  0.377594\n",
       "9     ISK_FD_M_8  0.349475"
      ]
     },
     "execution_count": 22,
     "metadata": {},
     "output_type": "execute_result"
    }
   ],
   "source": [
    "lr_coef = lr_fs_hpt.coef_\n",
    "lr_coef = [np.abs(item) for sublist in lr_coef for item in sublist]\n",
    "coef_weights = pd.DataFrame({\"Cols\":list(optimized_columns_lr),\"Coef\":lr_coef})\n",
    "coef_weights = coef_weights.sort_values(\"Coef\",ascending=False)\n",
    "coef_weights.reset_index(drop=True,inplace=True)\n",
    "coef_weights.head(10)"
   ]
  },
  {
   "cell_type": "markdown",
   "metadata": {},
   "source": [
    "Plot a correlation plot with the top 25 features with highest absolute weight coefficients from Logitstic Regression Classifier."
   ]
  },
  {
   "cell_type": "code",
   "execution_count": 23,
   "metadata": {},
   "outputs": [
    {
     "data": {
      "image/png": "[encoded data removed]",
      "text/plain": [
       "<Figure size 792x648 with 2 Axes>"
      ]
     },
     "metadata": {},
     "output_type": "display_data"
    }
   ],
   "source": [
    "lr_top25_coeffs_cols = list(coef_weights['Cols'][:25]) + ['IS_MULTI_DONOR']\n",
    "\n",
    "def plot_correlation_heatmap(df):\n",
    "    corr = df.corr()\n",
    "    \n",
    "    sns.set(style=\"white\")\n",
    "    mask = np.zeros_like(corr, dtype=np.bool)\n",
    "    mask[np.triu_indices_from(mask)] = True\n",
    "\n",
    "    f, ax = plt.subplots(figsize=(11, 9))\n",
    "    cmap = sns.diverging_palette(220, 10, as_cmap=True)\n",
    "\n",
    "\n",
    "    sns.heatmap(corr, mask=mask, cmap=cmap, vmax=.3, center=0,\n",
    "            square=True, linewidths=.5, cbar_kws={\"shrink\": .5})\n",
    "    plt.show()\n",
    "\n",
    "plot_correlation_heatmap(question2_prepared_data[lr_top25_coeffs_cols])"
   ]
  },
  {
   "cell_type": "markdown",
   "metadata": {},
   "source": [
    "## Apply PCA & Classify using SVM"
   ]
  },
  {
   "cell_type": "code",
   "execution_count": 24,
   "metadata": {},
   "outputs": [
    {
     "name": "stdout",
     "output_type": "stream",
     "text": [
      "(46206, 103)\n",
      "(46206, 30)\n"
     ]
    },
    {
     "data": {
      "text/plain": [
       "0.5845059121399793"
      ]
     },
     "execution_count": 24,
     "metadata": {},
     "output_type": "execute_result"
    }
   ],
   "source": [
    "#Apply PCA  (n_components = 30)\n",
    "train_X_copy = train_X.copy()\n",
    "test_X_copy = test_X.copy()\n",
    "train_y_copy = train_y.copy()\n",
    "test_y_copy = test_y.copy()\n",
    "\n",
    "print(train_X_copy.shape)\n",
    "\n",
    "n_components = 30      #30 seems optimal. 20 is good as well \n",
    "# Standardizing the features\n",
    "#train_X = StandardScaler().fit_transform(train_X_copy)\n",
    "#test_X = StandardScaler().fit_transform(test_X_copy)\n",
    "pca = PCA(n_components=n_components, svd_solver='randomized',\n",
    "          whiten=True).fit(train_X_copy)\n",
    "\n",
    "X_train_pca = pca.transform(train_X_copy)\n",
    "X_test_pca = pca.transform(test_X_copy)\n",
    "print(X_train_pca.shape)\n",
    "\n",
    "\n",
    "#SVM\n",
    "svm = SVC(kernel='rbf', class_weight='balanced')\n",
    "svm.fit(X_train_pca, train_y_copy)\n",
    "\n",
    "scores = cross_val_score(svm, X_train_pca, train_y_copy, cv=5, scoring='recall')\n",
    "scores.mean()"
   ]
  },
  {
   "cell_type": "code",
   "execution_count": null,
   "metadata": {},
   "outputs": [],
   "source": []
  },
  {
   "cell_type": "code",
   "execution_count": null,
   "metadata": {},
   "outputs": [],
   "source": []
  },
  {
   "cell_type": "markdown",
   "metadata": {},
   "source": [
    "#### Predicting donors who started donating to LUF after 2017 and who is more likely to become multi-donors"
   ]
  },
  {
   "cell_type": "code",
   "execution_count": 25,
   "metadata": {},
   "outputs": [
    {
     "name": "stdout",
     "output_type": "stream",
     "text": [
      "TP = 379\n",
      "FP = 3200\n",
      "FN = 550\n",
      "TN = 6562\n",
      "Accuracy = 0.6492376765503695\n",
      "Precision = 0.10589550153674211\n",
      "Recall = 0.40796555435952636\n",
      "F1 = 0.16814551907719608\n",
      "\n",
      "Number of predicted multi-donors by Random Forest: 3579\n"
     ]
    },
    {
     "data": {
      "text/html": [
       "<div>\n",
       "<style scoped>\n",
       "    .dataframe tbody tr th:only-of-type {\n",
       "        vertical-align: middle;\n",
       "    }\n",
       "\n",
       "    .dataframe tbody tr th {\n",
       "        vertical-align: top;\n",
       "    }\n",
       "\n",
       "    .dataframe thead th {\n",
       "        text-align: right;\n",
       "    }\n",
       "</style>\n",
       "<table border=\"1\" class=\"dataframe\">\n",
       "  <thead>\n",
       "    <tr style=\"text-align: right;\">\n",
       "      <th></th>\n",
       "      <th>RF_MultiDonors_Predictions</th>\n",
       "    </tr>\n",
       "    <tr>\n",
       "      <th>PARTNER</th>\n",
       "      <th></th>\n",
       "    </tr>\n",
       "  </thead>\n",
       "  <tbody>\n",
       "    <tr>\n",
       "      <th>201193106</th>\n",
       "      <td>0</td>\n",
       "    </tr>\n",
       "    <tr>\n",
       "      <th>201283448</th>\n",
       "      <td>0</td>\n",
       "    </tr>\n",
       "    <tr>\n",
       "      <th>200227665</th>\n",
       "      <td>1</td>\n",
       "    </tr>\n",
       "    <tr>\n",
       "      <th>201210033</th>\n",
       "      <td>0</td>\n",
       "    </tr>\n",
       "    <tr>\n",
       "      <th>200032754</th>\n",
       "      <td>1</td>\n",
       "    </tr>\n",
       "  </tbody>\n",
       "</table>\n",
       "</div>"
      ],
      "text/plain": [
       "           RF_MultiDonors_Predictions\n",
       "PARTNER                              \n",
       "201193106                           0\n",
       "201283448                           0\n",
       "200227665                           1\n",
       "201210033                           0\n",
       "200032754                           1"
      ]
     },
     "execution_count": 25,
     "metadata": {},
     "output_type": "execute_result"
    }
   ],
   "source": [
    "#Random Forest\n",
    "train_X_fs_hpt = train_X[optimized_columns_rf].copy()\n",
    "test_X_fs_hpt = test_X[optimized_columns_rf].copy()\n",
    "train_y_fs_hpt = train_y.copy()\n",
    "test_y_fs_hpt = test_y.copy()\n",
    "\n",
    "rf_fs_hpt = RandomForestClassifier(random_state=rf_best_params['random_state'], n_estimators=rf_best_params['n_estimators'],\n",
    "                            min_weight_fraction_leaf=rf_best_params['min_weight_fraction_leaf'],\n",
    "                            min_samples_split=rf_best_params['min_samples_split'],\n",
    "                            min_samples_leaf=rf_best_params['min_samples_leaf'],max_features=rf_best_params['max_features'],\n",
    "                            criterion=rf_best_params['criterion'],class_weight=rf_best_params['class_weight'],\n",
    "                            bootstrap=rf_best_params['bootstrap'])\n",
    "rf_fs_hpt.fit(train_X_fs_hpt,train_y_fs_hpt)\n",
    "\n",
    "rf_predictions = rf_fs_hpt.predict(test_X_fs_hpt)\n",
    "\n",
    "df = pd.DataFrame({\"a\":test_y_fs_hpt,\"b\":rf_predictions})\n",
    "TP = ((df['a']==df['b']) & (df['a'] == 1)).astype(int).sum(); print('TP = ' + str(TP))\n",
    "FP = ((df['a']!=df['b']) & (df['a'] == 0)).astype(int).sum(); print('FP = ' + str(FP))\n",
    "FN = ((df['a']!=df['b']) & (df['a'] == 1)).astype(int).sum(); print('FN = ' + str(FN))\n",
    "TN = ((df['a']==df['b']) & (df['a'] == 0)).astype(int).sum(); print('TN = ' + str(TN))\n",
    "Accuracy = (TP+TN)/(TP+TN+FP+FN);print('Accuracy = ' + str(Accuracy))\n",
    "Precision = TP/(TP+FP); print('Precision = ' + str(Precision))\n",
    "Recall = TP/(TP+FN); print('Recall = ' + str(Recall))\n",
    "F1 = 2 * (Precision * Recall) / (Precision + Recall); print('F1 = ' + str(F1))\n",
    "\n",
    "print('\\nNumber of predicted multi-donors by Random Forest: ' + str(sum(rf_predictions)))\n",
    "\n",
    "rf_predictions_df = pd.DataFrame(index=test_X_fs_hpt.index)\n",
    "rf_predictions_df['RF_MultiDonors_Predictions'] = rf_predictions\n",
    "rf_predictions_df.to_csv('SQLDATA\\PYTHON_OUTPUTS\\RF_multi_donors_predictions.csv')\n",
    "rf_predictions_df.tail()"
   ]
  },
  {
   "cell_type": "code",
   "execution_count": 26,
   "metadata": {},
   "outputs": [
    {
     "name": "stdout",
     "output_type": "stream",
     "text": [
      "TP = 282\n",
      "FP = 2020\n",
      "FN = 647\n",
      "TN = 7742\n",
      "Accuracy = 0.7505378355626228\n",
      "Precision = 0.12250217202432667\n",
      "Recall = 0.30355220667384286\n",
      "F1 = 0.1745589600742804\n",
      "\n",
      "Number of predicted multi-donors by Logistic Regression: 2302\n"
     ]
    },
    {
     "data": {
      "text/html": [
       "<div>\n",
       "<style scoped>\n",
       "    .dataframe tbody tr th:only-of-type {\n",
       "        vertical-align: middle;\n",
       "    }\n",
       "\n",
       "    .dataframe tbody tr th {\n",
       "        vertical-align: top;\n",
       "    }\n",
       "\n",
       "    .dataframe thead th {\n",
       "        text-align: right;\n",
       "    }\n",
       "</style>\n",
       "<table border=\"1\" class=\"dataframe\">\n",
       "  <thead>\n",
       "    <tr style=\"text-align: right;\">\n",
       "      <th></th>\n",
       "      <th>LR_MultiDonors_Predictions</th>\n",
       "    </tr>\n",
       "    <tr>\n",
       "      <th>PARTNER</th>\n",
       "      <th></th>\n",
       "    </tr>\n",
       "  </thead>\n",
       "  <tbody>\n",
       "    <tr>\n",
       "      <th>201193106</th>\n",
       "      <td>0</td>\n",
       "    </tr>\n",
       "    <tr>\n",
       "      <th>201283448</th>\n",
       "      <td>0</td>\n",
       "    </tr>\n",
       "    <tr>\n",
       "      <th>200227665</th>\n",
       "      <td>0</td>\n",
       "    </tr>\n",
       "    <tr>\n",
       "      <th>201210033</th>\n",
       "      <td>0</td>\n",
       "    </tr>\n",
       "    <tr>\n",
       "      <th>200032754</th>\n",
       "      <td>0</td>\n",
       "    </tr>\n",
       "  </tbody>\n",
       "</table>\n",
       "</div>"
      ],
      "text/plain": [
       "           LR_MultiDonors_Predictions\n",
       "PARTNER                              \n",
       "201193106                           0\n",
       "201283448                           0\n",
       "200227665                           0\n",
       "201210033                           0\n",
       "200032754                           0"
      ]
     },
     "execution_count": 26,
     "metadata": {},
     "output_type": "execute_result"
    }
   ],
   "source": [
    "#Logistic Regression\n",
    "train_X_fs_hpt = train_X[optimized_columns_lr].copy()\n",
    "test_X_fs_hpt = test_X[optimized_columns_lr].copy()\n",
    "train_y_fs_hpt = train_y.copy()\n",
    "test_y_fs_hpt = test_y.copy()\n",
    "\n",
    "lr_fs_hpt = LogisticRegression(tol=lr_best_params['tol'],solver=lr_best_params['solver'],max_iter=lr_best_params['max_iter'],\n",
    "                               intercept_scaling=lr_best_params['intercept_scaling'],\n",
    "                               fit_intercept=lr_best_params['fit_intercept'],\n",
    "                               class_weight=lr_best_params['class_weight'],C=lr_best_params['C'])\n",
    "lr_fs_hpt.fit(train_X_fs_hpt,train_y_fs_hpt)\n",
    "\n",
    "lr_predictions = lr_fs_hpt.predict(test_X_fs_hpt)\n",
    "\n",
    "df = pd.DataFrame({\"a\":test_y,\"b\":lr_predictions})\n",
    "TP = ((df['a']==df['b']) & (df['a'] == 1)).astype(int).sum(); print('TP = ' + str(TP))\n",
    "FP = ((df['a']!=df['b']) & (df['a'] == 0)).astype(int).sum(); print('FP = ' + str(FP))\n",
    "FN = ((df['a']!=df['b']) & (df['a'] == 1)).astype(int).sum(); print('FN = ' + str(FN))\n",
    "TN = ((df['a']==df['b']) & (df['a'] == 0)).astype(int).sum(); print('TN = ' + str(TN))\n",
    "Accuracy = (TP+TN)/(TP+TN+FP+FN);print('Accuracy = ' + str(Accuracy))\n",
    "Precision = TP/(TP+FP); print('Precision = ' + str(Precision))\n",
    "Recall = TP/(TP+FN); print('Recall = ' + str(Recall))\n",
    "F1 = 2 * (Precision * Recall) / (Precision + Recall); print('F1 = ' + str(F1))\n",
    "\n",
    "print('\\nNumber of predicted multi-donors by Logistic Regression: ' + str(sum(lr_predictions)))\n",
    "\n",
    "lr_predictions_df = pd.DataFrame(index=test_X_fs_hpt.index)\n",
    "lr_predictions_df['LR_MultiDonors_Predictions'] = lr_predictions\n",
    "lr_predictions_df.to_csv('SQLDATA\\PYTHON_OUTPUTS\\LR_multi_donors_predictions.csv')\n",
    "lr_predictions_df.tail()"
   ]
  },
  {
   "cell_type": "code",
   "execution_count": 27,
   "metadata": {},
   "outputs": [
    {
     "name": "stdout",
     "output_type": "stream",
     "text": [
      "TP = 254\n",
      "FP = 1533\n",
      "FN = 675\n",
      "TN = 8229\n",
      "Accuracy = 0.7934711439528576\n",
      "Precision = 0.1421376608841634\n",
      "Recall = 0.27341227125941875\n",
      "F1 = 0.18703976435935202\n",
      "\n",
      "Number of predicted multi-donors by SVM: 1787\n"
     ]
    },
    {
     "data": {
      "text/html": [
       "<div>\n",
       "<style scoped>\n",
       "    .dataframe tbody tr th:only-of-type {\n",
       "        vertical-align: middle;\n",
       "    }\n",
       "\n",
       "    .dataframe tbody tr th {\n",
       "        vertical-align: top;\n",
       "    }\n",
       "\n",
       "    .dataframe thead th {\n",
       "        text-align: right;\n",
       "    }\n",
       "</style>\n",
       "<table border=\"1\" class=\"dataframe\">\n",
       "  <thead>\n",
       "    <tr style=\"text-align: right;\">\n",
       "      <th></th>\n",
       "      <th>SVM_MultiDonors_Predictions</th>\n",
       "    </tr>\n",
       "    <tr>\n",
       "      <th>PARTNER</th>\n",
       "      <th></th>\n",
       "    </tr>\n",
       "  </thead>\n",
       "  <tbody>\n",
       "    <tr>\n",
       "      <th>201193106</th>\n",
       "      <td>0</td>\n",
       "    </tr>\n",
       "    <tr>\n",
       "      <th>201283448</th>\n",
       "      <td>0</td>\n",
       "    </tr>\n",
       "    <tr>\n",
       "      <th>200227665</th>\n",
       "      <td>0</td>\n",
       "    </tr>\n",
       "    <tr>\n",
       "      <th>201210033</th>\n",
       "      <td>0</td>\n",
       "    </tr>\n",
       "    <tr>\n",
       "      <th>200032754</th>\n",
       "      <td>1</td>\n",
       "    </tr>\n",
       "  </tbody>\n",
       "</table>\n",
       "</div>"
      ],
      "text/plain": [
       "           SVM_MultiDonors_Predictions\n",
       "PARTNER                               \n",
       "201193106                            0\n",
       "201283448                            0\n",
       "200227665                            0\n",
       "201210033                            0\n",
       "200032754                            1"
      ]
     },
     "execution_count": 27,
     "metadata": {},
     "output_type": "execute_result"
    }
   ],
   "source": [
    "#SVM\n",
    "train_X_copy = train_X.copy()\n",
    "test_X_copy = test_X.copy()\n",
    "train_y_copy = train_y.copy()\n",
    "test_y_copy = test_y.copy()\n",
    "\n",
    "n_components = 30      #30 seems optimal. 20 is good as well \n",
    "# Standardizing the features\n",
    "#train_X = StandardScaler().fit_transform(train_X_copy)\n",
    "#test_X = StandardScaler().fit_transform(test_X_copy)\n",
    "pca = PCA(n_components=n_components, svd_solver='randomized',whiten=True).fit(train_X_copy)\n",
    "\n",
    "X_train_pca = pca.transform(train_X_copy)\n",
    "X_test_pca = pca.transform(test_X_copy)\n",
    "\n",
    "svm = SVC(kernel='rbf', class_weight='balanced')\n",
    "svm.fit(X_train_pca, train_y_copy)\n",
    "\n",
    "svm_predictions = svm.predict(X_test_pca)\n",
    "\n",
    "df = pd.DataFrame({\"a\":test_y_copy,\"b\":svm_predictions})\n",
    "TP = ((df['a']==df['b']) & (df['a'] == 1)).astype(int).sum(); print('TP = ' + str(TP))\n",
    "FP = ((df['a']!=df['b']) & (df['a'] == 0)).astype(int).sum(); print('FP = ' + str(FP))\n",
    "FN = ((df['a']!=df['b']) & (df['a'] == 1)).astype(int).sum(); print('FN = ' + str(FN))\n",
    "TN = ((df['a']==df['b']) & (df['a'] == 0)).astype(int).sum(); print('TN = ' + str(TN))\n",
    "Accuracy = (TP+TN)/(TP+TN+FP+FN);print('Accuracy = ' + str(Accuracy))\n",
    "Precision = TP/(TP+FP); print('Precision = ' + str(Precision))\n",
    "Recall = TP/(TP+FN); print('Recall = ' + str(Recall))\n",
    "F1 = 2 * (Precision * Recall) / (Precision + Recall); print('F1 = ' + str(F1))\n",
    "\n",
    "print('\\nNumber of predicted multi-donors by SVM: ' + str(sum(svm_predictions)))\n",
    "\n",
    "svm_predictions_df = pd.DataFrame(index=test_X_fs_hpt.index)\n",
    "svm_predictions_df['SVM_MultiDonors_Predictions'] = svm_predictions\n",
    "svm_predictions_df.to_csv('SQLDATA\\PYTHON_OUTPUTS\\SVM_multi_donors_predictions.csv')\n",
    "svm_predictions_df.tail()"
   ]
  },
  {
   "cell_type": "markdown",
   "metadata": {},
   "source": [
    "#### Merge all predictions"
   ]
  },
  {
   "cell_type": "code",
   "execution_count": 28,
   "metadata": {},
   "outputs": [
    {
     "name": "stdout",
     "output_type": "stream",
     "text": [
      "(10691, 3)\n"
     ]
    },
    {
     "data": {
      "text/html": [
       "<div>\n",
       "<style scoped>\n",
       "    .dataframe tbody tr th:only-of-type {\n",
       "        vertical-align: middle;\n",
       "    }\n",
       "\n",
       "    .dataframe tbody tr th {\n",
       "        vertical-align: top;\n",
       "    }\n",
       "\n",
       "    .dataframe thead th {\n",
       "        text-align: right;\n",
       "    }\n",
       "</style>\n",
       "<table border=\"1\" class=\"dataframe\">\n",
       "  <thead>\n",
       "    <tr style=\"text-align: right;\">\n",
       "      <th></th>\n",
       "      <th>RF_MultiDonors_Predictions</th>\n",
       "      <th>LR_MultiDonors_Predictions</th>\n",
       "      <th>SVM_MultiDonors_Predictions</th>\n",
       "    </tr>\n",
       "    <tr>\n",
       "      <th>PARTNER</th>\n",
       "      <th></th>\n",
       "      <th></th>\n",
       "      <th></th>\n",
       "    </tr>\n",
       "  </thead>\n",
       "  <tbody>\n",
       "    <tr>\n",
       "      <th>201219741</th>\n",
       "      <td>0</td>\n",
       "      <td>0</td>\n",
       "      <td>0</td>\n",
       "    </tr>\n",
       "    <tr>\n",
       "      <th>201279590</th>\n",
       "      <td>0</td>\n",
       "      <td>1</td>\n",
       "      <td>1</td>\n",
       "    </tr>\n",
       "    <tr>\n",
       "      <th>201275190</th>\n",
       "      <td>0</td>\n",
       "      <td>0</td>\n",
       "      <td>0</td>\n",
       "    </tr>\n",
       "    <tr>\n",
       "      <th>201295002</th>\n",
       "      <td>0</td>\n",
       "      <td>0</td>\n",
       "      <td>0</td>\n",
       "    </tr>\n",
       "    <tr>\n",
       "      <th>201296886</th>\n",
       "      <td>0</td>\n",
       "      <td>0</td>\n",
       "      <td>0</td>\n",
       "    </tr>\n",
       "    <tr>\n",
       "      <th>201308334</th>\n",
       "      <td>0</td>\n",
       "      <td>0</td>\n",
       "      <td>0</td>\n",
       "    </tr>\n",
       "    <tr>\n",
       "      <th>200354189</th>\n",
       "      <td>1</td>\n",
       "      <td>0</td>\n",
       "      <td>1</td>\n",
       "    </tr>\n",
       "    <tr>\n",
       "      <th>200154388</th>\n",
       "      <td>1</td>\n",
       "      <td>1</td>\n",
       "      <td>1</td>\n",
       "    </tr>\n",
       "    <tr>\n",
       "      <th>200320149</th>\n",
       "      <td>1</td>\n",
       "      <td>1</td>\n",
       "      <td>0</td>\n",
       "    </tr>\n",
       "    <tr>\n",
       "      <th>201279677</th>\n",
       "      <td>0</td>\n",
       "      <td>0</td>\n",
       "      <td>0</td>\n",
       "    </tr>\n",
       "  </tbody>\n",
       "</table>\n",
       "</div>"
      ],
      "text/plain": [
       "           RF_MultiDonors_Predictions  LR_MultiDonors_Predictions  \\\n",
       "PARTNER                                                             \n",
       "201219741                           0                           0   \n",
       "201279590                           0                           1   \n",
       "201275190                           0                           0   \n",
       "201295002                           0                           0   \n",
       "201296886                           0                           0   \n",
       "201308334                           0                           0   \n",
       "200354189                           1                           0   \n",
       "200154388                           1                           1   \n",
       "200320149                           1                           1   \n",
       "201279677                           0                           0   \n",
       "\n",
       "           SVM_MultiDonors_Predictions  \n",
       "PARTNER                                 \n",
       "201219741                            0  \n",
       "201279590                            1  \n",
       "201275190                            0  \n",
       "201295002                            0  \n",
       "201296886                            0  \n",
       "201308334                            0  \n",
       "200354189                            1  \n",
       "200154388                            1  \n",
       "200320149                            0  \n",
       "201279677                            0  "
      ]
     },
     "execution_count": 28,
     "metadata": {},
     "output_type": "execute_result"
    }
   ],
   "source": [
    "multi_donor_predictions_df = pd.concat([rf_predictions_df,lr_predictions_df,svm_predictions_df],axis=1)\n",
    "print(multi_donor_predictions_df.shape)\n",
    "multi_donor_predictions_df.to_csv('SQLDATA\\PYTHON_OUTPUTS\\multi_donors_predictions.csv')\n",
    "multi_donor_predictions_df.head(10)"
   ]
  },
  {
   "cell_type": "markdown",
   "metadata": {},
   "source": []
  },
  {
   "cell_type": "code",
   "execution_count": 29,
   "metadata": {},
   "outputs": [
    {
     "name": "stdout",
     "output_type": "stream",
     "text": [
      "TP = 481\n",
      "FP = 4087\n",
      "FN = 448\n",
      "TN = 5675\n",
      "Accuracy = 0.5758114301749134\n",
      "Precision = 0.10529772329246935\n",
      "Recall = 0.5177610333692142\n",
      "F1 = 0.1750045479352374\n",
      "\n",
      "Number of predicted multi-donors by all models: 4568\n"
     ]
    }
   ],
   "source": [
    "multi_donor_predictions_df['Agg_Model_Predictions'] = (multi_donor_predictions_df['RF_MultiDonors_Predictions'] + \n",
    "                                                       multi_donor_predictions_df['LR_MultiDonors_Predictions'] + \n",
    "                                                       multi_donor_predictions_df['SVM_MultiDonors_Predictions'])\n",
    "multi_donor_predictions_df['Agg_Model_Predictions'] = multi_donor_predictions_df['Agg_Model_Predictions'].replace(2,1).replace(3,1)\n",
    "actual_2018 = pd.DataFrame({\"Actual_2018\":test_y_copy})\n",
    "df = pd.concat([actual_2018,multi_donor_predictions_df[['Agg_Model_Predictions']]],axis=1)\n",
    "df = df.rename(columns={'Actual_2018':'a','Agg_Model_Predictions':'b'})\n",
    "TP = ((df['a']==df['b']) & (df['a'] == 1)).astype(int).sum(); print('TP = ' + str(TP))\n",
    "FP = ((df['a']!=df['b']) & (df['a'] == 0)).astype(int).sum(); print('FP = ' + str(FP))\n",
    "FN = ((df['a']!=df['b']) & (df['a'] == 1)).astype(int).sum(); print('FN = ' + str(FN))\n",
    "TN = ((df['a']==df['b']) & (df['a'] == 0)).astype(int).sum(); print('TN = ' + str(TN))\n",
    "Accuracy = (TP+TN)/(TP+TN+FP+FN);print('Accuracy = ' + str(Accuracy))\n",
    "Precision = TP/(TP+FP); print('Precision = ' + str(Precision))\n",
    "Recall = TP/(TP+FN); print('Recall = ' + str(Recall))\n",
    "F1 = 2 * (Precision * Recall) / (Precision + Recall); print('F1 = ' + str(F1))\n",
    "\n",
    "print('\\nNumber of predicted multi-donors by all models: ' + str(sum(df['b'])))"
   ]
  },
  {
   "cell_type": "code",
   "execution_count": null,
   "metadata": {},
   "outputs": [],
   "source": []
  },
  {
   "cell_type": "code",
   "execution_count": null,
   "metadata": {},
   "outputs": [],
   "source": []
  },
  {
   "cell_type": "code",
   "execution_count": null,
   "metadata": {},
   "outputs": [],
   "source": []
  },
  {
   "cell_type": "code",
   "execution_count": null,
   "metadata": {},
   "outputs": [],
   "source": []
  },
  {
   "cell_type": "code",
   "execution_count": null,
   "metadata": {},
   "outputs": [],
   "source": []
  },
  {
   "cell_type": "code",
   "execution_count": null,
   "metadata": {},
   "outputs": [],
   "source": []
  },
  {
   "cell_type": "code",
   "execution_count": null,
   "metadata": {},
   "outputs": [],
   "source": []
  },
  {
   "cell_type": "code",
   "execution_count": null,
   "metadata": {},
   "outputs": [],
   "source": []
  }
 ],
 "metadata": {
  "kernelspec": {
   "display_name": "Python 3",
   "language": "python",
   "name": "python3"
  },
  "language_info": {
   "codemirror_mode": {
    "name": "ipython",
    "version": 3
   },
   "file_extension": ".py",
   "mimetype": "text/x-python",
   "name": "python",
   "nbconvert_exporter": "python",
   "pygments_lexer": "ipython3",
   "version": "3.7.1"
  }
 },
 "nbformat": 4,
 "nbformat_minor": 2
}
