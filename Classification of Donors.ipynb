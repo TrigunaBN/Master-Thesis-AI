{
 "cells": [
  {
   "cell_type": "code",
   "execution_count": 1,
   "metadata": {},
   "outputs": [],
   "source": [
    "import pandas as pd\n",
    "import numpy as np\n",
    "import matplotlib.pyplot as plt\n",
    "import matplotlib.image as mpimg\n",
    "import seaborn as sns\n",
    "import csv\n",
    "from sklearn.model_selection import train_test_split\n",
    "from sklearn.ensemble import RandomForestClassifier\n",
    "from sklearn.linear_model import LogisticRegression\n",
    "from sklearn.model_selection import train_test_split\n",
    "from sklearn.model_selection import KFold\n",
    "from sklearn.model_selection import cross_val_score\n",
    "from sklearn.model_selection import RandomizedSearchCV, GridSearchCV\n",
    "from sklearn.feature_selection import RFECV\n",
    "from sklearn.metrics import classification_report,confusion_matrix\n",
    "from sklearn.metrics import accuracy_score\n",
    "from sklearn.metrics import mean_squared_error\n",
    "from sklearn.metrics import matthews_corrcoef\n",
    "from sklearn.metrics import f1_score\n",
    "from sklearn.decomposition import PCA\n",
    "from sklearn.svm import SVC"
   ]
  },
  {
   "cell_type": "code",
   "execution_count": 2,
   "metadata": {},
   "outputs": [],
   "source": [
    "import warnings\n",
    "warnings.filterwarnings('ignore')"
   ]
  },
  {
   "cell_type": "markdown",
   "metadata": {},
   "source": [
    "# Summary\n",
    "\n",
    "Here we build models that help the Leuven University Fund (LUF) to predict if a donor would donate to the LUF again after donating for the first time to LUF. <br>\n",
    "\n",
    "The required data for this notebook is obtained using question2_prepared_data.csv file that is generated in 'Data Preparation & Feature Construction.ipynb'. <br>\n",
    "\n",
    "So far only 3 classifiers are used namely Random Forests, Logistic Regression and SVM with PCA. <br>\n",
    "\n",
    "The idea is to train the classifier for high recall while minimizing as much false positives as possible. <br>\n",
    "\n",
    "TODO: Create a Neural Network classifier using keras package"
   ]
  },
  {
   "cell_type": "code",
   "execution_count": 3,
   "metadata": {
    "scrolled": true
   },
   "outputs": [
    {
     "name": "stdout",
     "output_type": "stream",
     "text": [
      "(56897, 131)\n",
      "(56897, 130)\n"
     ]
    },
    {
     "data": {
      "text/html": [
       "<div>\n",
       "<style scoped>\n",
       "    .dataframe tbody tr th:only-of-type {\n",
       "        vertical-align: middle;\n",
       "    }\n",
       "\n",
       "    .dataframe tbody tr th {\n",
       "        vertical-align: top;\n",
       "    }\n",
       "\n",
       "    .dataframe thead th {\n",
       "        text-align: right;\n",
       "    }\n",
       "</style>\n",
       "<table border=\"1\" class=\"dataframe\">\n",
       "  <thead>\n",
       "    <tr style=\"text-align: right;\">\n",
       "      <th></th>\n",
       "      <th>PARTNER</th>\n",
       "      <th>XSEXF</th>\n",
       "      <th>XSEXM</th>\n",
       "      <th>ZZAMNT_PAYED</th>\n",
       "      <th>ZLUF_DOCDATE</th>\n",
       "      <th>ZZAMNT_PAYED_NORM</th>\n",
       "      <th>ISK_PERSON</th>\n",
       "      <th>ISK_BIRTHPL</th>\n",
       "      <th>ISK_BU_LANGU</th>\n",
       "      <th>ISK_CNT_ORIGIN</th>\n",
       "      <th>...</th>\n",
       "      <th>ZLUF_LIJST</th>\n",
       "      <th>ZLUF_ORG_ALS_PERSOON</th>\n",
       "      <th>ZLUF_ORG_VERENIGING</th>\n",
       "      <th>ZLUF_SCHENKINTERESSE_ARTnCULTURE</th>\n",
       "      <th>ZLUF_SCHENKINTERESSE_CHILDREN</th>\n",
       "      <th>ZLUF_SCHENKINTERESSE_DEVCOOP</th>\n",
       "      <th>ZLUF_SCHENKINTERESSE_HEALTHCARE</th>\n",
       "      <th>ZLUF_SCHENKINTERESSE_HERITAGE</th>\n",
       "      <th>ZLUF_SCHENKINTERESSE_SCHOLARSHIPS</th>\n",
       "      <th>IS_MULTI_DONOR</th>\n",
       "    </tr>\n",
       "  </thead>\n",
       "  <tbody>\n",
       "    <tr>\n",
       "      <th>0</th>\n",
       "      <td>200000002</td>\n",
       "      <td>0</td>\n",
       "      <td>0</td>\n",
       "      <td>1000.0</td>\n",
       "      <td>2004-07-20</td>\n",
       "      <td>1000.0</td>\n",
       "      <td>0</td>\n",
       "      <td>0</td>\n",
       "      <td>0</td>\n",
       "      <td>0</td>\n",
       "      <td>...</td>\n",
       "      <td>0</td>\n",
       "      <td>0</td>\n",
       "      <td>0</td>\n",
       "      <td>0</td>\n",
       "      <td>0</td>\n",
       "      <td>0</td>\n",
       "      <td>0</td>\n",
       "      <td>0</td>\n",
       "      <td>0</td>\n",
       "      <td>1</td>\n",
       "    </tr>\n",
       "    <tr>\n",
       "      <th>1</th>\n",
       "      <td>200000007</td>\n",
       "      <td>0</td>\n",
       "      <td>0</td>\n",
       "      <td>4000.0</td>\n",
       "      <td>2010-11-02</td>\n",
       "      <td>4000.0</td>\n",
       "      <td>0</td>\n",
       "      <td>0</td>\n",
       "      <td>0</td>\n",
       "      <td>0</td>\n",
       "      <td>...</td>\n",
       "      <td>0</td>\n",
       "      <td>0</td>\n",
       "      <td>0</td>\n",
       "      <td>0</td>\n",
       "      <td>0</td>\n",
       "      <td>0</td>\n",
       "      <td>0</td>\n",
       "      <td>0</td>\n",
       "      <td>0</td>\n",
       "      <td>1</td>\n",
       "    </tr>\n",
       "    <tr>\n",
       "      <th>2</th>\n",
       "      <td>200000010</td>\n",
       "      <td>0</td>\n",
       "      <td>0</td>\n",
       "      <td>100.0</td>\n",
       "      <td>2009-12-22</td>\n",
       "      <td>100.0</td>\n",
       "      <td>0</td>\n",
       "      <td>0</td>\n",
       "      <td>0</td>\n",
       "      <td>0</td>\n",
       "      <td>...</td>\n",
       "      <td>0</td>\n",
       "      <td>0</td>\n",
       "      <td>0</td>\n",
       "      <td>0</td>\n",
       "      <td>0</td>\n",
       "      <td>0</td>\n",
       "      <td>0</td>\n",
       "      <td>0</td>\n",
       "      <td>0</td>\n",
       "      <td>1</td>\n",
       "    </tr>\n",
       "    <tr>\n",
       "      <th>3</th>\n",
       "      <td>200000013</td>\n",
       "      <td>0</td>\n",
       "      <td>0</td>\n",
       "      <td>5000.0</td>\n",
       "      <td>2012-02-28</td>\n",
       "      <td>5000.0</td>\n",
       "      <td>0</td>\n",
       "      <td>0</td>\n",
       "      <td>0</td>\n",
       "      <td>0</td>\n",
       "      <td>...</td>\n",
       "      <td>0</td>\n",
       "      <td>0</td>\n",
       "      <td>0</td>\n",
       "      <td>0</td>\n",
       "      <td>0</td>\n",
       "      <td>0</td>\n",
       "      <td>0</td>\n",
       "      <td>0</td>\n",
       "      <td>0</td>\n",
       "      <td>1</td>\n",
       "    </tr>\n",
       "    <tr>\n",
       "      <th>4</th>\n",
       "      <td>200000024</td>\n",
       "      <td>0</td>\n",
       "      <td>0</td>\n",
       "      <td>20000.0</td>\n",
       "      <td>2018-01-03</td>\n",
       "      <td>20000.0</td>\n",
       "      <td>0</td>\n",
       "      <td>0</td>\n",
       "      <td>0</td>\n",
       "      <td>0</td>\n",
       "      <td>...</td>\n",
       "      <td>0</td>\n",
       "      <td>0</td>\n",
       "      <td>0</td>\n",
       "      <td>0</td>\n",
       "      <td>0</td>\n",
       "      <td>0</td>\n",
       "      <td>0</td>\n",
       "      <td>0</td>\n",
       "      <td>0</td>\n",
       "      <td>0</td>\n",
       "    </tr>\n",
       "  </tbody>\n",
       "</table>\n",
       "<p>5 rows × 130 columns</p>\n",
       "</div>"
      ],
      "text/plain": [
       "     PARTNER  XSEXF  XSEXM  ZZAMNT_PAYED ZLUF_DOCDATE  ZZAMNT_PAYED_NORM  \\\n",
       "0  200000002      0      0        1000.0   2004-07-20             1000.0   \n",
       "1  200000007      0      0        4000.0   2010-11-02             4000.0   \n",
       "2  200000010      0      0         100.0   2009-12-22              100.0   \n",
       "3  200000013      0      0        5000.0   2012-02-28             5000.0   \n",
       "4  200000024      0      0       20000.0   2018-01-03            20000.0   \n",
       "\n",
       "   ISK_PERSON  ISK_BIRTHPL  ISK_BU_LANGU  ISK_CNT_ORIGIN       ...        \\\n",
       "0           0            0             0               0       ...         \n",
       "1           0            0             0               0       ...         \n",
       "2           0            0             0               0       ...         \n",
       "3           0            0             0               0       ...         \n",
       "4           0            0             0               0       ...         \n",
       "\n",
       "   ZLUF_LIJST  ZLUF_ORG_ALS_PERSOON  ZLUF_ORG_VERENIGING  \\\n",
       "0           0                     0                    0   \n",
       "1           0                     0                    0   \n",
       "2           0                     0                    0   \n",
       "3           0                     0                    0   \n",
       "4           0                     0                    0   \n",
       "\n",
       "   ZLUF_SCHENKINTERESSE_ARTnCULTURE  ZLUF_SCHENKINTERESSE_CHILDREN  \\\n",
       "0                                 0                              0   \n",
       "1                                 0                              0   \n",
       "2                                 0                              0   \n",
       "3                                 0                              0   \n",
       "4                                 0                              0   \n",
       "\n",
       "   ZLUF_SCHENKINTERESSE_DEVCOOP  ZLUF_SCHENKINTERESSE_HEALTHCARE  \\\n",
       "0                             0                                0   \n",
       "1                             0                                0   \n",
       "2                             0                                0   \n",
       "3                             0                                0   \n",
       "4                             0                                0   \n",
       "\n",
       "   ZLUF_SCHENKINTERESSE_HERITAGE  ZLUF_SCHENKINTERESSE_SCHOLARSHIPS  \\\n",
       "0                              0                                  0   \n",
       "1                              0                                  0   \n",
       "2                              0                                  0   \n",
       "3                              0                                  0   \n",
       "4                              0                                  0   \n",
       "\n",
       "   IS_MULTI_DONOR  \n",
       "0               1  \n",
       "1               1  \n",
       "2               1  \n",
       "3               1  \n",
       "4               0  \n",
       "\n",
       "[5 rows x 130 columns]"
      ]
     },
     "execution_count": 3,
     "metadata": {},
     "output_type": "execute_result"
    }
   ],
   "source": [
    "question2_prepared_data = pd.read_csv('SQLDATA/PYTHON_OUTPUTS/question2_prepared_data.csv')\n",
    "print(question2_prepared_data.shape)\n",
    "question2_prepared_data = question2_prepared_data.drop(['Unnamed: 0'], axis=1)\n",
    "print(question2_prepared_data.shape)\n",
    "question2_prepared_data.head()"
   ]
  },
  {
   "cell_type": "code",
   "execution_count": 4,
   "metadata": {},
   "outputs": [
    {
     "data": {
      "text/plain": [
       "14727"
      ]
     },
     "execution_count": 4,
     "metadata": {},
     "output_type": "execute_result"
    }
   ],
   "source": [
    "question2_prepared_data['IS_MULTI_DONOR'].sum()"
   ]
  },
  {
   "cell_type": "markdown",
   "metadata": {},
   "source": [
    "14,727 donors out of 56,897 are multi-donors (~26%). <br>\n",
    "\n",
    "But some of the donors who first donated in the year 2018 might donate again in the future, but this data is not present for now.  <br>\n",
    "\n",
    "So, in order to improve the performance of the classifier, remove the entries of donors who first donated in the year 2018 using the feature 'ISK_FD_Y_2018'."
   ]
  },
  {
   "cell_type": "code",
   "execution_count": 5,
   "metadata": {},
   "outputs": [
    {
     "name": "stdout",
     "output_type": "stream",
     "text": [
      "(52438, 129)\n"
     ]
    },
    {
     "data": {
      "text/html": [
       "<div>\n",
       "<style scoped>\n",
       "    .dataframe tbody tr th:only-of-type {\n",
       "        vertical-align: middle;\n",
       "    }\n",
       "\n",
       "    .dataframe tbody tr th {\n",
       "        vertical-align: top;\n",
       "    }\n",
       "\n",
       "    .dataframe thead th {\n",
       "        text-align: right;\n",
       "    }\n",
       "</style>\n",
       "<table border=\"1\" class=\"dataframe\">\n",
       "  <thead>\n",
       "    <tr style=\"text-align: right;\">\n",
       "      <th></th>\n",
       "      <th>PARTNER</th>\n",
       "      <th>XSEXF</th>\n",
       "      <th>XSEXM</th>\n",
       "      <th>ZZAMNT_PAYED</th>\n",
       "      <th>ZLUF_DOCDATE</th>\n",
       "      <th>ZZAMNT_PAYED_NORM</th>\n",
       "      <th>ISK_PERSON</th>\n",
       "      <th>ISK_BIRTHPL</th>\n",
       "      <th>ISK_BU_LANGU</th>\n",
       "      <th>ISK_CNT_ORIGIN</th>\n",
       "      <th>...</th>\n",
       "      <th>ZLUF_LIJST</th>\n",
       "      <th>ZLUF_ORG_ALS_PERSOON</th>\n",
       "      <th>ZLUF_ORG_VERENIGING</th>\n",
       "      <th>ZLUF_SCHENKINTERESSE_ARTnCULTURE</th>\n",
       "      <th>ZLUF_SCHENKINTERESSE_CHILDREN</th>\n",
       "      <th>ZLUF_SCHENKINTERESSE_DEVCOOP</th>\n",
       "      <th>ZLUF_SCHENKINTERESSE_HEALTHCARE</th>\n",
       "      <th>ZLUF_SCHENKINTERESSE_HERITAGE</th>\n",
       "      <th>ZLUF_SCHENKINTERESSE_SCHOLARSHIPS</th>\n",
       "      <th>IS_MULTI_DONOR</th>\n",
       "    </tr>\n",
       "  </thead>\n",
       "  <tbody>\n",
       "    <tr>\n",
       "      <th>0</th>\n",
       "      <td>200000002</td>\n",
       "      <td>0</td>\n",
       "      <td>0</td>\n",
       "      <td>1000.0</td>\n",
       "      <td>2004-07-20</td>\n",
       "      <td>1000.0</td>\n",
       "      <td>0</td>\n",
       "      <td>0</td>\n",
       "      <td>0</td>\n",
       "      <td>0</td>\n",
       "      <td>...</td>\n",
       "      <td>0</td>\n",
       "      <td>0</td>\n",
       "      <td>0</td>\n",
       "      <td>0</td>\n",
       "      <td>0</td>\n",
       "      <td>0</td>\n",
       "      <td>0</td>\n",
       "      <td>0</td>\n",
       "      <td>0</td>\n",
       "      <td>1</td>\n",
       "    </tr>\n",
       "    <tr>\n",
       "      <th>1</th>\n",
       "      <td>200000007</td>\n",
       "      <td>0</td>\n",
       "      <td>0</td>\n",
       "      <td>4000.0</td>\n",
       "      <td>2010-11-02</td>\n",
       "      <td>4000.0</td>\n",
       "      <td>0</td>\n",
       "      <td>0</td>\n",
       "      <td>0</td>\n",
       "      <td>0</td>\n",
       "      <td>...</td>\n",
       "      <td>0</td>\n",
       "      <td>0</td>\n",
       "      <td>0</td>\n",
       "      <td>0</td>\n",
       "      <td>0</td>\n",
       "      <td>0</td>\n",
       "      <td>0</td>\n",
       "      <td>0</td>\n",
       "      <td>0</td>\n",
       "      <td>1</td>\n",
       "    </tr>\n",
       "    <tr>\n",
       "      <th>2</th>\n",
       "      <td>200000010</td>\n",
       "      <td>0</td>\n",
       "      <td>0</td>\n",
       "      <td>100.0</td>\n",
       "      <td>2009-12-22</td>\n",
       "      <td>100.0</td>\n",
       "      <td>0</td>\n",
       "      <td>0</td>\n",
       "      <td>0</td>\n",
       "      <td>0</td>\n",
       "      <td>...</td>\n",
       "      <td>0</td>\n",
       "      <td>0</td>\n",
       "      <td>0</td>\n",
       "      <td>0</td>\n",
       "      <td>0</td>\n",
       "      <td>0</td>\n",
       "      <td>0</td>\n",
       "      <td>0</td>\n",
       "      <td>0</td>\n",
       "      <td>1</td>\n",
       "    </tr>\n",
       "    <tr>\n",
       "      <th>3</th>\n",
       "      <td>200000013</td>\n",
       "      <td>0</td>\n",
       "      <td>0</td>\n",
       "      <td>5000.0</td>\n",
       "      <td>2012-02-28</td>\n",
       "      <td>5000.0</td>\n",
       "      <td>0</td>\n",
       "      <td>0</td>\n",
       "      <td>0</td>\n",
       "      <td>0</td>\n",
       "      <td>...</td>\n",
       "      <td>0</td>\n",
       "      <td>0</td>\n",
       "      <td>0</td>\n",
       "      <td>0</td>\n",
       "      <td>0</td>\n",
       "      <td>0</td>\n",
       "      <td>0</td>\n",
       "      <td>0</td>\n",
       "      <td>0</td>\n",
       "      <td>1</td>\n",
       "    </tr>\n",
       "    <tr>\n",
       "      <th>5</th>\n",
       "      <td>200000035</td>\n",
       "      <td>0</td>\n",
       "      <td>0</td>\n",
       "      <td>15000.0</td>\n",
       "      <td>2007-10-15</td>\n",
       "      <td>15000.0</td>\n",
       "      <td>0</td>\n",
       "      <td>0</td>\n",
       "      <td>0</td>\n",
       "      <td>0</td>\n",
       "      <td>...</td>\n",
       "      <td>0</td>\n",
       "      <td>0</td>\n",
       "      <td>0</td>\n",
       "      <td>0</td>\n",
       "      <td>0</td>\n",
       "      <td>0</td>\n",
       "      <td>0</td>\n",
       "      <td>0</td>\n",
       "      <td>0</td>\n",
       "      <td>1</td>\n",
       "    </tr>\n",
       "  </tbody>\n",
       "</table>\n",
       "<p>5 rows × 129 columns</p>\n",
       "</div>"
      ],
      "text/plain": [
       "     PARTNER  XSEXF  XSEXM  ZZAMNT_PAYED ZLUF_DOCDATE  ZZAMNT_PAYED_NORM  \\\n",
       "0  200000002      0      0        1000.0   2004-07-20             1000.0   \n",
       "1  200000007      0      0        4000.0   2010-11-02             4000.0   \n",
       "2  200000010      0      0         100.0   2009-12-22              100.0   \n",
       "3  200000013      0      0        5000.0   2012-02-28             5000.0   \n",
       "5  200000035      0      0       15000.0   2007-10-15            15000.0   \n",
       "\n",
       "   ISK_PERSON  ISK_BIRTHPL  ISK_BU_LANGU  ISK_CNT_ORIGIN       ...        \\\n",
       "0           0            0             0               0       ...         \n",
       "1           0            0             0               0       ...         \n",
       "2           0            0             0               0       ...         \n",
       "3           0            0             0               0       ...         \n",
       "5           0            0             0               0       ...         \n",
       "\n",
       "   ZLUF_LIJST  ZLUF_ORG_ALS_PERSOON  ZLUF_ORG_VERENIGING  \\\n",
       "0           0                     0                    0   \n",
       "1           0                     0                    0   \n",
       "2           0                     0                    0   \n",
       "3           0                     0                    0   \n",
       "5           0                     0                    0   \n",
       "\n",
       "   ZLUF_SCHENKINTERESSE_ARTnCULTURE  ZLUF_SCHENKINTERESSE_CHILDREN  \\\n",
       "0                                 0                              0   \n",
       "1                                 0                              0   \n",
       "2                                 0                              0   \n",
       "3                                 0                              0   \n",
       "5                                 0                              0   \n",
       "\n",
       "   ZLUF_SCHENKINTERESSE_DEVCOOP  ZLUF_SCHENKINTERESSE_HEALTHCARE  \\\n",
       "0                             0                                0   \n",
       "1                             0                                0   \n",
       "2                             0                                0   \n",
       "3                             0                                0   \n",
       "5                             0                                0   \n",
       "\n",
       "   ZLUF_SCHENKINTERESSE_HERITAGE  ZLUF_SCHENKINTERESSE_SCHOLARSHIPS  \\\n",
       "0                              0                                  0   \n",
       "1                              0                                  0   \n",
       "2                              0                                  0   \n",
       "3                              0                                  0   \n",
       "5                              0                                  0   \n",
       "\n",
       "   IS_MULTI_DONOR  \n",
       "0               1  \n",
       "1               1  \n",
       "2               1  \n",
       "3               1  \n",
       "5               1  \n",
       "\n",
       "[5 rows x 129 columns]"
      ]
     },
     "execution_count": 5,
     "metadata": {},
     "output_type": "execute_result"
    }
   ],
   "source": [
    "question2_prepared_data = question2_prepared_data[question2_prepared_data['ISK_FD_Y_2018']==0]\n",
    "question2_prepared_data = question2_prepared_data.drop(['ISK_FD_Y_2018'],axis='columns')\n",
    "print(question2_prepared_data.shape)\n",
    "question2_prepared_data.head()"
   ]
  },
  {
   "cell_type": "markdown",
   "metadata": {},
   "source": [
    "There were 4,459 new donors (56,897-52,438) in the year 2018."
   ]
  },
  {
   "cell_type": "code",
   "execution_count": 6,
   "metadata": {},
   "outputs": [
    {
     "data": {
      "text/plain": [
       "14558"
      ]
     },
     "execution_count": 6,
     "metadata": {},
     "output_type": "execute_result"
    }
   ],
   "source": [
    "question2_prepared_data['IS_MULTI_DONOR'].sum()"
   ]
  },
  {
   "cell_type": "markdown",
   "metadata": {},
   "source": [
    "14,558 donors out of 52,438 are multi-donors (~28%). <br>\n",
    "As you can see the percentage of multi-donors improved when we removed the list of donors who first donated in the year 2018."
   ]
  },
  {
   "cell_type": "markdown",
   "metadata": {},
   "source": [
    "In the below cell we remove some of the features that hindered the performance of the classifier"
   ]
  },
  {
   "cell_type": "code",
   "execution_count": 7,
   "metadata": {},
   "outputs": [],
   "source": [
    "relevant_cols = list(question2_prepared_data.columns.values)\n",
    "if \"PARTNER\" in str(relevant_cols):\n",
    "    relevant_cols.remove(\"PARTNER\")\n",
    "if \"ZLUF_DOCDATE\" in str(relevant_cols):\n",
    "    relevant_cols.remove(\"ZLUF_DOCDATE\")\n",
    "if \"ZZAMNT_PAYED_NORM\" in str(relevant_cols):\n",
    "    relevant_cols.remove(\"ZZAMNT_PAYED_NORM\")\n",
    "#if \"ZZAMNT_PAYED\" in str(relevant_cols):\n",
    "#    relevant_cols.remove(\"ZZAMNT_PAYED\")\n",
    "\n",
    "if \"ISK_FD_CAT_1\" in str(relevant_cols):\n",
    "    relevant_cols.remove(\"ISK_FD_CAT_1\")\n",
    "if \"ISK_FD_CAT_2\" in str(relevant_cols):\n",
    "    relevant_cols.remove(\"ISK_FD_CAT_2\")\n",
    "if \"ISK_FD_CAT_3\" in str(relevant_cols):\n",
    "    relevant_cols.remove(\"ISK_FD_CAT_3\")\n",
    "if \"ISK_FD_CAT_4\" in str(relevant_cols):\n",
    "    relevant_cols.remove(\"ISK_FD_CAT_4\")\n",
    "if \"ISK_FD_CAT_5\" in str(relevant_cols):\n",
    "    relevant_cols.remove(\"ISK_FD_CAT_5\")\n",
    "if \"ISK_FD_CAT_6\" in str(relevant_cols):\n",
    "    relevant_cols.remove(\"ISK_FD_CAT_6\")\n",
    "    \n",
    "#if \"ISK_FD_SHARED\" in str(relevant_cols):\n",
    "#    relevant_cols.remove(\"ISK_FD_SHARED\")    "
   ]
  },
  {
   "cell_type": "code",
   "execution_count": 8,
   "metadata": {},
   "outputs": [],
   "source": [
    "train_cols = relevant_cols\n",
    "if \"IS_MULTI_DONOR\" in str(train_cols):\n",
    "    train_cols.remove(\"IS_MULTI_DONOR\")"
   ]
  },
  {
   "cell_type": "markdown",
   "metadata": {},
   "source": [
    "# Random Forest"
   ]
  },
  {
   "cell_type": "code",
   "execution_count": 9,
   "metadata": {},
   "outputs": [
    {
     "name": "stdout",
     "output_type": "stream",
     "text": [
      "(41950, 119)\n",
      "TP = 1127\n",
      "FP = 690\n",
      "FN = 1822\n",
      "TN = 6849\n",
      "Accuracy = 0.7604881769641495\n",
      "Precision = 0.620253164556962\n",
      "Recall = 0.3821634452356731\n",
      "F1 = 0.47293327738145197\n",
      "\n",
      "Matthews Correlation = 0.3452523515330981\n"
     ]
    }
   ],
   "source": [
    "#Random Forest baseline\n",
    "train_X_bl, test_X_bl, train_y_bl, test_y_bl = train_test_split(question2_prepared_data[list(train_cols)], \n",
    "                                                    question2_prepared_data['IS_MULTI_DONOR'], test_size = 0.2, random_state = 0)\n",
    "print(train_X_bl.shape)\n",
    "\n",
    "rf = RandomForestClassifier()\n",
    "rf.fit(train_X_bl,train_y_bl)\n",
    "\n",
    "rf_predictions = rf.predict(test_X_bl)\n",
    "rf_mc = matthews_corrcoef(rf_predictions, test_y_bl)\n",
    "\n",
    "df = pd.DataFrame({\"a\":test_y_bl,\"b\":rf_predictions})\n",
    "TP = ((df['a']==df['b']) & (df['a'] == 1)).astype(int).sum(); print('TP = ' + str(TP))\n",
    "FP = ((df['a']!=df['b']) & (df['a'] == 0)).astype(int).sum(); print('FP = ' + str(FP))\n",
    "FN = ((df['a']!=df['b']) & (df['a'] == 1)).astype(int).sum(); print('FN = ' + str(FN))\n",
    "TN = ((df['a']==df['b']) & (df['a'] == 0)).astype(int).sum(); print('TN = ' + str(TN))\n",
    "Accuracy = (TP+TN)/(TP+TN+FP+FN);print('Accuracy = ' + str(Accuracy))\n",
    "Precision = TP/(TP+FP); print('Precision = ' + str(Precision))\n",
    "Recall = TP/(TP+FN); print('Recall = ' + str(Recall))\n",
    "F1 = 2 * (Precision * Recall) / (Precision + Recall); print('F1 = ' + str(F1))\n",
    "\n",
    "print('\\nMatthews Correlation = ' + str(rf_mc))"
   ]
  },
  {
   "cell_type": "markdown",
   "metadata": {},
   "source": [
    "## Feature Selection - Random Forest"
   ]
  },
  {
   "cell_type": "code",
   "execution_count": 10,
   "metadata": {},
   "outputs": [
    {
     "name": "stdout",
     "output_type": "stream",
     "text": [
      "Index(['ZZAMNT_PAYED', 'ISK_COMM_LET', 'ISK_FD_BANKN', 'ISK_FD_VGS',\n",
      "       'ISK_CC_FD_F', 'NUM_D_TYL', 'ISK_FD_Y_2002', 'REL_ORGCP', 'REL_BUR998',\n",
      "       'REL_Z00001'],\n",
      "      dtype='object')\n"
     ]
    }
   ],
   "source": [
    "#Recursive Feature Elimination (RFE)\n",
    "X, t_X, Y, ty = train_test_split(question2_prepared_data[list(train_cols)], \n",
    "                                                    question2_prepared_data['IS_MULTI_DONOR'], test_size = 0.2, random_state = 0)\n",
    "rf = RandomForestClassifier()\n",
    "selector_rf = RFECV(rf, cv=5,scoring='recall')  #Tune via recall to get the best performance, in terms of accuracy, recall etc\n",
    "selector_rf.fit(X, Y)\n",
    "optimized_columns_rf = X.columns[selector_rf.support_]\n",
    "print(optimized_columns_rf)"
   ]
  },
  {
   "cell_type": "code",
   "execution_count": 11,
   "metadata": {},
   "outputs": [
    {
     "name": "stdout",
     "output_type": "stream",
     "text": [
      "(41950, 10)\n",
      "TP = 1233\n",
      "FP = 990\n",
      "FN = 1716\n",
      "TN = 6549\n",
      "Accuracy = 0.7419908466819222\n",
      "Precision = 0.5546558704453441\n",
      "Recall = 0.41810783316378436\n",
      "F1 = 0.4767981438515081\n",
      "\n",
      "Matthews Correlation = 0.3154773142498958\n"
     ]
    }
   ],
   "source": [
    "#Random Forest + Feature Selection\n",
    "train_X, test_X, train_y, test_y = train_test_split(question2_prepared_data[list(optimized_columns_rf)], \n",
    "                                                    question2_prepared_data['IS_MULTI_DONOR'], test_size = 0.2, random_state = 0)\n",
    "print(train_X.shape)\n",
    "\n",
    "rf = RandomForestClassifier()\n",
    "rf.fit(train_X,train_y)\n",
    "\n",
    "rf_predictions = rf.predict(test_X)\n",
    "rf_mc = matthews_corrcoef(rf_predictions, test_y)\n",
    "\n",
    "df = pd.DataFrame({\"a\":test_y,\"b\":rf_predictions})\n",
    "TP = ((df['a']==df['b']) & (df['a'] == 1)).astype(int).sum(); print('TP = ' + str(TP))\n",
    "FP = ((df['a']!=df['b']) & (df['a'] == 0)).astype(int).sum(); print('FP = ' + str(FP))\n",
    "FN = ((df['a']!=df['b']) & (df['a'] == 1)).astype(int).sum(); print('FN = ' + str(FN))\n",
    "TN = ((df['a']==df['b']) & (df['a'] == 0)).astype(int).sum(); print('TN = ' + str(TN))\n",
    "Accuracy = (TP+TN)/(TP+TN+FP+FN);print('Accuracy = ' + str(Accuracy))\n",
    "Precision = TP/(TP+FP); print('Precision = ' + str(Precision))\n",
    "Recall = TP/(TP+FN); print('Recall = ' + str(Recall))\n",
    "F1 = 2 * (Precision * Recall) / (Precision + Recall); print('F1 = ' + str(F1))\n",
    "\n",
    "print('\\nMatthews Correlation = ' + str(rf_mc))"
   ]
  },
  {
   "cell_type": "markdown",
   "metadata": {},
   "source": [
    "## Hyper-parameter tuning - Random Forest"
   ]
  },
  {
   "cell_type": "code",
   "execution_count": null,
   "metadata": {},
   "outputs": [],
   "source": [
    "#Hyperparameter Tuning Random forest using different scorers\n",
    "from sklearn.metrics import roc_curve, f1_score, precision_recall_curve,  auc, make_scorer, recall_score, accuracy_score, precision_score, confusion_matrix\n",
    "scorers = {\n",
    "    'precision_score': make_scorer(precision_score),\n",
    "    'recall_score': make_scorer(recall_score),\n",
    "    'accuracy_score': make_scorer(accuracy_score),\n",
    "    'f1_score': make_scorer(f1_score)\n",
    "}\n",
    "\n",
    "criterion = [\"entropy\",\"gini\"]\n",
    "min_weight_fraction_leaf = [0.001, 0.0025, 0.005, 0.0075, 0.009, 0.01]\n",
    "class_weight=['balanced','balanced_subsample', None]\n",
    "n_estimators = [10, 25, 50, 100, 250]\n",
    "max_features = ['auto', 'sqrt', 'log2', None]\n",
    "bootstrap = [True, False]\n",
    "random_state = [0]\n",
    "n_jobs=[1]\n",
    "min_samples_leaf = [0.1, 0.2, 0.3, 0.4, 0.5] #should be >0 & <= 0.5\n",
    "min_samples_split = [0.1, 0.25, 0.5, 0.75, 0.9, 1.0] #should be >0 & <= 1.0\n",
    "random_grid = {'criterion': criterion,\n",
    "               'min_weight_fraction_leaf':min_weight_fraction_leaf,\n",
    "               'class_weight':class_weight,\n",
    "               'n_estimators': n_estimators,\n",
    "               'max_features': max_features,\n",
    "               'bootstrap': bootstrap,\n",
    "               'random_state': random_state,\n",
    "               'n_jobs':n_jobs,\n",
    "               'min_samples_leaf': min_samples_leaf,\n",
    "               'min_samples_split': min_samples_split}\n",
    "rf = RandomForestClassifier()\n",
    "rf_random = RandomizedSearchCV(estimator = rf, param_distributions = random_grid, n_iter = 1000, cv = 5, verbose=2, \n",
    "                               random_state=42, n_jobs = -1, scoring=scorers,refit='recall_score')\n",
    "rf_random.fit(train_X, train_y)\n",
    "rf_random.best_params_"
   ]
  },
  {
   "cell_type": "code",
   "execution_count": null,
   "metadata": {},
   "outputs": [],
   "source": [
    "results = pd.DataFrame(rf_random.cv_results_)\n",
    "results = results.sort_values(by='mean_train_accuracy_score', ascending=False)\n",
    "results = results[['params','mean_test_precision_score','mean_train_precision_score','mean_test_recall_score',\n",
    "         'mean_train_recall_score','mean_test_accuracy_score','mean_train_accuracy_score','mean_test_f1_score',\n",
    "         'mean_train_f1_score']]\n",
    "results.sort_values(by='mean_train_f1_score', ascending=False)\n",
    "print(results.shape)\n",
    "results.head()"
   ]
  },
  {
   "cell_type": "code",
   "execution_count": null,
   "metadata": {},
   "outputs": [],
   "source": [
    "results.to_csv('SQLDATA\\PYTHON_OUTPUTS\\RF_randomizedSearchCV.csv')"
   ]
  },
  {
   "cell_type": "code",
   "execution_count": null,
   "metadata": {},
   "outputs": [],
   "source": [
    "results[results['mean_train_f1_score']>0.45]"
   ]
  },
  {
   "cell_type": "code",
   "execution_count": 12,
   "metadata": {},
   "outputs": [
    {
     "name": "stdout",
     "output_type": "stream",
     "text": [
      "(41950, 10)\n",
      "TP = 1792\n",
      "FP = 2980\n",
      "FN = 1157\n",
      "TN = 4559\n",
      "Accuracy = 0.6055491990846682\n",
      "Precision = 0.3755238893545683\n",
      "Recall = 0.6076636147846728\n",
      "F1 = 0.4641885766092475\n",
      "\n",
      "Matthews Correlation: 0.1917446506460992\n"
     ]
    }
   ],
   "source": [
    "#Random Forest + Feature Selection + Hyperparameter Tuning\n",
    "train_X, test_X, train_y, test_y = train_test_split(question2_prepared_data[list(optimized_columns_rf)], \n",
    "                                                    question2_prepared_data['IS_MULTI_DONOR'], test_size = 0.2, random_state = 0)\n",
    "print(train_X.shape)\n",
    "rf = RandomForestClassifier(random_state=0, n_estimators=100,min_weight_fraction_leaf=0.009,min_samples_split=0.1,\n",
    "                            min_samples_leaf=0.1,max_features='auto',criterion='gini',class_weight='balanced_subsample',\n",
    "                            bootstrap=True)\n",
    "rf.fit(train_X,train_y)\n",
    "\n",
    "rf_predictions = rf.predict(test_X)\n",
    "rf_mc = matthews_corrcoef(rf_predictions, test_y)\n",
    "\n",
    "df = pd.DataFrame({\"a\":test_y,\"b\":rf_predictions})\n",
    "TP = ((df['a']==df['b']) & (df['a'] == 1)).astype(int).sum(); print('TP = ' + str(TP))\n",
    "FP = ((df['a']!=df['b']) & (df['a'] == 0)).astype(int).sum(); print('FP = ' + str(FP))\n",
    "FN = ((df['a']!=df['b']) & (df['a'] == 1)).astype(int).sum(); print('FN = ' + str(FN))\n",
    "TN = ((df['a']==df['b']) & (df['a'] == 0)).astype(int).sum(); print('TN = ' + str(TN))\n",
    "Accuracy = (TP+TN)/(TP+TN+FP+FN);print('Accuracy = ' + str(Accuracy))\n",
    "Precision = TP/(TP+FP); print('Precision = ' + str(Precision))\n",
    "Recall = TP/(TP+FN); print('Recall = ' + str(Recall))\n",
    "F1 = 2 * (Precision * Recall) / (Precision + Recall); print('F1 = ' + str(F1))\n",
    "\n",
    "print('\\nMatthews Correlation: ' + str(rf_mc))"
   ]
  },
  {
   "cell_type": "code",
   "execution_count": 13,
   "metadata": {},
   "outputs": [
    {
     "data": {
      "text/plain": [
       "Text(0.5, 0, 'Features')"
      ]
     },
     "execution_count": 13,
     "metadata": {},
     "output_type": "execute_result"
    },
    {
     "data": {
      "image/png": "[encoded data removed]",
      "text/plain": [
       "<Figure size 432x288 with 1 Axes>"
      ]
     },
     "metadata": {
      "needs_background": "light"
     },
     "output_type": "display_data"
    }
   ],
   "source": [
    "feat_importances = pd.Series(rf.feature_importances_, index=list(optimized_columns_rf))\n",
    "feat_importances.nlargest(25).plot(kind='bar')\n",
    "plt.title('Feature Importance Plot')\n",
    "plt.ylabel('Relative Importance')\n",
    "plt.xlabel('Features')"
   ]
  },
  {
   "cell_type": "markdown",
   "metadata": {},
   "source": [
    "Plot a correlation plot with the top 25 features with highest feature importance used by Random Forest Classifier."
   ]
  },
  {
   "cell_type": "code",
   "execution_count": 14,
   "metadata": {},
   "outputs": [
    {
     "data": {
      "image/png": "[encoded data removed]",
      "text/plain": [
       "<Figure size 792x648 with 2 Axes>"
      ]
     },
     "metadata": {},
     "output_type": "display_data"
    }
   ],
   "source": [
    "rg_top25_coeffs_cols = list(feat_importances.nlargest(25).index) + ['IS_MULTI_DONOR']\n",
    "def plot_correlation_heatmap(df):\n",
    "    corr = df.corr()\n",
    "    \n",
    "    sns.set(style=\"white\")\n",
    "    mask = np.zeros_like(corr, dtype=np.bool)\n",
    "    mask[np.triu_indices_from(mask)] = True\n",
    "\n",
    "    f, ax = plt.subplots(figsize=(11, 9))\n",
    "    cmap = sns.diverging_palette(220, 10, as_cmap=True)\n",
    "\n",
    "\n",
    "    sns.heatmap(corr, mask=mask, cmap=cmap, vmax=.3, center=0,\n",
    "            square=True, linewidths=.5, cbar_kws={\"shrink\": .5})\n",
    "    plt.show()\n",
    "\n",
    "plot_correlation_heatmap(question2_prepared_data[rg_top25_coeffs_cols])"
   ]
  },
  {
   "cell_type": "code",
   "execution_count": null,
   "metadata": {},
   "outputs": [],
   "source": []
  },
  {
   "cell_type": "code",
   "execution_count": null,
   "metadata": {},
   "outputs": [],
   "source": []
  },
  {
   "cell_type": "markdown",
   "metadata": {},
   "source": [
    "# Logistic Regression"
   ]
  },
  {
   "cell_type": "code",
   "execution_count": 15,
   "metadata": {},
   "outputs": [
    {
     "name": "stdout",
     "output_type": "stream",
     "text": [
      "(41950, 119)\n",
      "TP = 951\n",
      "FP = 360\n",
      "FN = 1998\n",
      "TN = 7179\n",
      "Accuracy = 0.7751716247139588\n",
      "Precision = 0.7254004576659039\n",
      "Recall = 0.3224821973550356\n",
      "F1 = 0.44647887323943664\n",
      "\n",
      "Matthews Correlation: \n",
      "0.3734645917065487\n"
     ]
    }
   ],
   "source": [
    "#Logistic Regression Baseline\n",
    "train_X_bl, test_X_bl, train_y_bl, test_y_bl = train_test_split(question2_prepared_data[list(train_cols)], \n",
    "                                                    question2_prepared_data['IS_MULTI_DONOR'], test_size = 0.2, random_state = 0)\n",
    "print(train_X_bl.shape)\n",
    "\n",
    "lr = LogisticRegression()\n",
    "lr.fit(train_X_bl,train_y_bl)\n",
    "\n",
    "lr_predictions = lr.predict(test_X_bl)\n",
    "lr_mc = matthews_corrcoef(lr_predictions, test_y_bl)\n",
    "df = pd.DataFrame({\"a\":test_y,\"b\":lr_predictions})\n",
    "TP = ((df['a']==df['b']) & (df['a'] == 1)).astype(int).sum(); print('TP = ' + str(TP))\n",
    "FP = ((df['a']!=df['b']) & (df['a'] == 0)).astype(int).sum(); print('FP = ' + str(FP))\n",
    "FN = ((df['a']!=df['b']) & (df['a'] == 1)).astype(int).sum(); print('FN = ' + str(FN))\n",
    "TN = ((df['a']==df['b']) & (df['a'] == 0)).astype(int).sum(); print('TN = ' + str(TN))\n",
    "Accuracy = (TP+TN)/(TP+TN+FP+FN);print('Accuracy = ' + str(Accuracy))\n",
    "Precision = TP/(TP+FP); print('Precision = ' + str(Precision))\n",
    "Recall = TP/(TP+FN); print('Recall = ' + str(Recall))\n",
    "F1 = 2 * (Precision * Recall) / (Precision + Recall); print('F1 = ' + str(F1))\n",
    "\n",
    "print('\\nMatthews Correlation: ')\n",
    "print(lr_mc)"
   ]
  },
  {
   "cell_type": "markdown",
   "metadata": {},
   "source": [
    "## Feature Selection - Logistic Regression"
   ]
  },
  {
   "cell_type": "code",
   "execution_count": 16,
   "metadata": {},
   "outputs": [
    {
     "name": "stdout",
     "output_type": "stream",
     "text": [
      "Index(['XSEXF', 'XSEXM', 'ISK_PERSON', 'ISK_BIRTHPL', 'ISK_BU_LANGU',\n",
      "       'ISK_CNT_ORIGIN', 'ISK_NATIONALITY', 'ISK_VOORNAAM', 'ISK_LANGU_CORR',\n",
      "       'ISK_MARST',\n",
      "       ...\n",
      "       'ZLUF_KERKELIJK', 'ZLUF_LIJST', 'ZLUF_ORG_ALS_PERSOON',\n",
      "       'ZLUF_ORG_VERENIGING', 'ZLUF_SCHENKINTERESSE_ARTnCULTURE',\n",
      "       'ZLUF_SCHENKINTERESSE_CHILDREN', 'ZLUF_SCHENKINTERESSE_DEVCOOP',\n",
      "       'ZLUF_SCHENKINTERESSE_HEALTHCARE', 'ZLUF_SCHENKINTERESSE_HERITAGE',\n",
      "       'ZLUF_SCHENKINTERESSE_SCHOLARSHIPS'],\n",
      "      dtype='object', length=118)\n"
     ]
    }
   ],
   "source": [
    "#Recursive Feature Elimination (RFE) \n",
    "X, t_X, Y, ty = train_test_split(question2_prepared_data[list(train_cols)], \n",
    "                                 question2_prepared_data['IS_MULTI_DONOR'], test_size = 0.2, random_state = 0)\n",
    "\n",
    "lr = LogisticRegression()\n",
    "selector_lr = RFECV(lr, cv=5,scoring='recall')\n",
    "selector_lr.fit(X, Y)\n",
    "optimized_columns_lr = X.columns[selector_lr.support_]\n",
    "print(optimized_columns_lr)"
   ]
  },
  {
   "cell_type": "code",
   "execution_count": 17,
   "metadata": {},
   "outputs": [
    {
     "name": "stdout",
     "output_type": "stream",
     "text": [
      "(10488, 118)\n",
      "TP = 950\n",
      "FP = 363\n",
      "FN = 1999\n",
      "TN = 7176\n",
      "Accuracy = 0.774790236460717\n",
      "Precision = 0.7235338918507236\n",
      "Recall = 0.3221430993557138\n",
      "F1 = 0.4458000938526513\n",
      "\n",
      "Matthews Correlation: 0.3722194668113831\n"
     ]
    }
   ],
   "source": [
    "#Logistic Regression + Feature Selection\n",
    "train_X_fs, test_X_fs, train_y_fs, test_y_fs = train_test_split(question2_prepared_data[list(optimized_columns_lr)], \n",
    "                                                    question2_prepared_data['IS_MULTI_DONOR'], test_size = 0.2, random_state = 0)\n",
    "print(test_X_fs.shape)\n",
    "\n",
    "lr = LogisticRegression()\n",
    "lr.fit(train_X_fs,train_y_fs)\n",
    "\n",
    "lr_predictions = lr.predict(test_X_fs)\n",
    "lr_mc = matthews_corrcoef(lr_predictions, test_y_fs)\n",
    "df = pd.DataFrame({\"a\":test_y,\"b\":lr_predictions})\n",
    "TP = ((df['a']==df['b']) & (df['a'] == 1)).astype(int).sum(); print('TP = ' + str(TP))\n",
    "FP = ((df['a']!=df['b']) & (df['a'] == 0)).astype(int).sum(); print('FP = ' + str(FP))\n",
    "FN = ((df['a']!=df['b']) & (df['a'] == 1)).astype(int).sum(); print('FN = ' + str(FN))\n",
    "TN = ((df['a']==df['b']) & (df['a'] == 0)).astype(int).sum(); print('TN = ' + str(TN))\n",
    "Accuracy = (TP+TN)/(TP+TN+FP+FN);print('Accuracy = ' + str(Accuracy))\n",
    "Precision = TP/(TP+FP); print('Precision = ' + str(Precision))\n",
    "Recall = TP/(TP+FN); print('Recall = ' + str(Recall))\n",
    "F1 = 2 * (Precision * Recall) / (Precision + Recall); print('F1 = ' + str(F1))\n",
    "\n",
    "print('\\nMatthews Correlation: ' + str(lr_mc))"
   ]
  },
  {
   "cell_type": "markdown",
   "metadata": {},
   "source": [
    "## Hyper-parameter tuning - Logistic Regression"
   ]
  },
  {
   "cell_type": "code",
   "execution_count": null,
   "metadata": {},
   "outputs": [],
   "source": [
    "#Hyper-parameter tuning for Logistic Regression using RamdomizedSearchCV\n",
    "scorers = {\n",
    "    'precision_score': make_scorer(precision_score),\n",
    "    'recall_score': make_scorer(recall_score),\n",
    "    'accuracy_score': make_scorer(accuracy_score),\n",
    "    'f1_score': make_scorer(f1_score)\n",
    "}\n",
    "tol=[0.0001,0.001,0.005,0.01,0.05,0.1]\n",
    "c = [1.0,2.0,5.0]\n",
    "fit_intercept = [True,False]\n",
    "intercept_scaling = [1,2,5,10]\n",
    "class_weight = ['balanced',None]\n",
    "solver = ['newton-cg', 'lbfgs', 'liblinear']\n",
    "max_iter = [20,50,100,200]\n",
    "random_grid = {'tol': tol,\n",
    "               'C': c,\n",
    "               'fit_intercept': fit_intercept,\n",
    "               'intercept_scaling': intercept_scaling,\n",
    "               'class_weight': class_weight,\n",
    "               'solver': solver,\n",
    "               'max_iter': max_iter}\n",
    "lr = LogisticRegression()\n",
    "lr_random = RandomizedSearchCV(estimator = lr, param_distributions = random_grid, n_iter = 500, cv = 5, verbose=2, \n",
    "                               random_state=42, n_jobs = -1,scoring=scorers,refit='recall_score')\n",
    "lr_random.fit(train_X, train_y)\n",
    "lr_random.best_params_"
   ]
  },
  {
   "cell_type": "code",
   "execution_count": null,
   "metadata": {},
   "outputs": [],
   "source": [
    "results = pd.DataFrame(lr_random.cv_results_)\n",
    "results = results.sort_values(by='mean_train_accuracy_score', ascending=False)\n",
    "results = results[['params','mean_test_precision_score','mean_train_precision_score','mean_test_recall_score',\n",
    "         'mean_train_recall_score','mean_test_accuracy_score','mean_train_accuracy_score','mean_test_f1_score',\n",
    "         'mean_train_f1_score']]\n",
    "results.sort_values(by='mean_train_f1_score', ascending=False)\n",
    "results.to_csv('SQLDATA\\PYTHON_OUTPUTS\\LR_randomizedSearchCV.csv')\n",
    "print(results.shape)\n",
    "results.head()"
   ]
  },
  {
   "cell_type": "code",
   "execution_count": 18,
   "metadata": {},
   "outputs": [
    {
     "name": "stdout",
     "output_type": "stream",
     "text": [
      "(10488, 118)\n",
      "TP = 1876\n",
      "FP = 2264\n",
      "FN = 1073\n",
      "TN = 5275\n",
      "Accuracy = 0.6818268497330282\n",
      "Precision = 0.45314009661835747\n",
      "Recall = 0.6361478467277043\n",
      "F1 = 0.5292707010861899\n",
      "\n",
      "Matthews Correlation: 0.308895532375653\n"
     ]
    }
   ],
   "source": [
    "#Logistic Regression + Feature Selection + Hyperparameter Tuning\n",
    "train_X, test_X, train_y, test_y = train_test_split(question2_prepared_data[list(optimized_columns_lr)], \n",
    "                                                    question2_prepared_data['IS_MULTI_DONOR'], test_size = 0.2, random_state = 0)\n",
    "print(test_X.shape)\n",
    "#lr = LogisticRegression(tol=0.001,solver='liblinear',max_iter=50,intercept_scaling=1,fit_intercept=True,class_weight='balanced',C=1.0)\n",
    "lr = LogisticRegression(tol=0.01,solver='lbfgs',max_iter=100,intercept_scaling=10,fit_intercept=True,\n",
    "                       class_weight='balanced',C=2.0)\n",
    "lr.fit(train_X,train_y)\n",
    "\n",
    "lr_predictions = lr.predict(test_X)\n",
    "lr_mc = matthews_corrcoef(lr_predictions, test_y)\n",
    "df = pd.DataFrame({\"a\":test_y,\"b\":lr_predictions})\n",
    "TP = ((df['a']==df['b']) & (df['a'] == 1)).astype(int).sum(); print('TP = ' + str(TP))\n",
    "FP = ((df['a']!=df['b']) & (df['a'] == 0)).astype(int).sum(); print('FP = ' + str(FP))\n",
    "FN = ((df['a']!=df['b']) & (df['a'] == 1)).astype(int).sum(); print('FN = ' + str(FN))\n",
    "TN = ((df['a']==df['b']) & (df['a'] == 0)).astype(int).sum(); print('TN = ' + str(TN))\n",
    "Accuracy = (TP+TN)/(TP+TN+FP+FN);print('Accuracy = ' + str(Accuracy))\n",
    "Precision = TP/(TP+FP); print('Precision = ' + str(Precision))\n",
    "Recall = TP/(TP+FN); print('Recall = ' + str(Recall))\n",
    "F1 = 2 * (Precision * Recall) / (Precision + Recall); print('F1 = ' + str(F1))\n",
    "\n",
    "print('\\nMatthews Correlation: ' + str(lr_mc))"
   ]
  },
  {
   "cell_type": "code",
   "execution_count": 19,
   "metadata": {},
   "outputs": [
    {
     "data": {
      "text/html": [
       "<div>\n",
       "<style scoped>\n",
       "    .dataframe tbody tr th:only-of-type {\n",
       "        vertical-align: middle;\n",
       "    }\n",
       "\n",
       "    .dataframe tbody tr th {\n",
       "        vertical-align: top;\n",
       "    }\n",
       "\n",
       "    .dataframe thead th {\n",
       "        text-align: right;\n",
       "    }\n",
       "</style>\n",
       "<table border=\"1\" class=\"dataframe\">\n",
       "  <thead>\n",
       "    <tr style=\"text-align: right;\">\n",
       "      <th></th>\n",
       "      <th>Cols</th>\n",
       "      <th>Coef</th>\n",
       "    </tr>\n",
       "  </thead>\n",
       "  <tbody>\n",
       "    <tr>\n",
       "      <th>0</th>\n",
       "      <td>ISK_FD_Y_2002</td>\n",
       "      <td>1.169091</td>\n",
       "    </tr>\n",
       "    <tr>\n",
       "      <th>1</th>\n",
       "      <td>ISK_COMM_LET</td>\n",
       "      <td>0.862232</td>\n",
       "    </tr>\n",
       "    <tr>\n",
       "      <th>2</th>\n",
       "      <td>ISK_VOORNAAM</td>\n",
       "      <td>0.778083</td>\n",
       "    </tr>\n",
       "    <tr>\n",
       "      <th>3</th>\n",
       "      <td>REL_ORGCP</td>\n",
       "      <td>0.752800</td>\n",
       "    </tr>\n",
       "    <tr>\n",
       "      <th>4</th>\n",
       "      <td>REL_BUR998</td>\n",
       "      <td>0.678715</td>\n",
       "    </tr>\n",
       "  </tbody>\n",
       "</table>\n",
       "</div>"
      ],
      "text/plain": [
       "            Cols      Coef\n",
       "0  ISK_FD_Y_2002  1.169091\n",
       "1   ISK_COMM_LET  0.862232\n",
       "2   ISK_VOORNAAM  0.778083\n",
       "3      REL_ORGCP  0.752800\n",
       "4     REL_BUR998  0.678715"
      ]
     },
     "execution_count": 19,
     "metadata": {},
     "output_type": "execute_result"
    }
   ],
   "source": [
    "lr_coef = lr.coef_\n",
    "lr_coef = [np.abs(item) for sublist in lr_coef for item in sublist]\n",
    "coef_weights = pd.DataFrame({\"Cols\":list(optimized_columns_lr),\"Coef\":lr_coef})\n",
    "coef_weights = coef_weights.sort_values(\"Coef\",ascending=False)\n",
    "coef_weights.reset_index(drop=True,inplace=True)\n",
    "coef_weights.head()"
   ]
  },
  {
   "cell_type": "markdown",
   "metadata": {},
   "source": [
    "Plot a correlation plot with the top 25 features with highest absolute weight coefficients from Logitstic Regression Classifier."
   ]
  },
  {
   "cell_type": "code",
   "execution_count": 20,
   "metadata": {},
   "outputs": [
    {
     "data": {
      "image/png": "[encoded data removed]",
      "text/plain": [
       "<Figure size 792x648 with 2 Axes>"
      ]
     },
     "metadata": {},
     "output_type": "display_data"
    }
   ],
   "source": [
    "lr_top25_coeffs_cols = list(coef_weights['Cols'][:25]) + ['IS_MULTI_DONOR']\n",
    "\n",
    "def plot_correlation_heatmap(df):\n",
    "    corr = df.corr()\n",
    "    \n",
    "    sns.set(style=\"white\")\n",
    "    mask = np.zeros_like(corr, dtype=np.bool)\n",
    "    mask[np.triu_indices_from(mask)] = True\n",
    "\n",
    "    f, ax = plt.subplots(figsize=(11, 9))\n",
    "    cmap = sns.diverging_palette(220, 10, as_cmap=True)\n",
    "\n",
    "\n",
    "    sns.heatmap(corr, mask=mask, cmap=cmap, vmax=.3, center=0,\n",
    "            square=True, linewidths=.5, cbar_kws={\"shrink\": .5})\n",
    "    plt.show()\n",
    "\n",
    "plot_correlation_heatmap(question2_prepared_data[lr_top25_coeffs_cols])"
   ]
  },
  {
   "cell_type": "markdown",
   "metadata": {},
   "source": [
    "One reason why ISK_FD_Y_2002 (Is the first donation in 2002) is correlated with being a multi-donor is because of the archaelogical credit (Sagalassos Research Project). <br>\n",
    "There is a negative correlation of ISK_FD_Y_2018 (Is the first donation in 2018) with being a multi-donor and it is expected because some of the multi-donors take time to donate again. Some multi-donors who first made a donation in 2018 might donate again in 2018 but the majority of them don't.  "
   ]
  },
  {
   "cell_type": "code",
   "execution_count": null,
   "metadata": {},
   "outputs": [],
   "source": []
  },
  {
   "cell_type": "code",
   "execution_count": null,
   "metadata": {},
   "outputs": [],
   "source": []
  },
  {
   "cell_type": "markdown",
   "metadata": {},
   "source": [
    "## Apply PCA & Classify using SVM"
   ]
  },
  {
   "cell_type": "code",
   "execution_count": 21,
   "metadata": {},
   "outputs": [],
   "source": [
    "#Apply PCA\n",
    "train_X, test_X, train_y, test_y = train_test_split(question2_prepared_data[train_cols], \n",
    "                                                    question2_prepared_data['IS_MULTI_DONOR'], test_size = 0.2, random_state = 0)\n",
    "n_components = 30      #30 seems optimal. 20 is good as well \n",
    "# Standardizing the features\n",
    "#train_X = StandardScaler().fit_transform(train_X)\n",
    "#test_X = StandardScaler().fit_transform(test_X)\n",
    "pca = PCA(n_components=n_components, svd_solver='randomized',\n",
    "          whiten=True).fit(train_X)\n",
    "\n",
    "X_train_pca = pca.transform(train_X)\n",
    "X_test_pca = pca.transform(test_X)"
   ]
  },
  {
   "cell_type": "code",
   "execution_count": 22,
   "metadata": {},
   "outputs": [
    {
     "name": "stdout",
     "output_type": "stream",
     "text": [
      "TP = 1836\n",
      "FP = 1801\n",
      "FN = 1113\n",
      "TN = 5738\n",
      "Accuracy = 0.7221586575133486\n",
      "Precision = 0.504811657959857\n",
      "Recall = 0.6225839267548321\n",
      "F1 = 0.5575463103552991\n",
      "\n",
      "Matthews Correlation: 0.3624343103941259\n"
     ]
    }
   ],
   "source": [
    "#SVM\n",
    "param_grid = {'C': [1e3, 5e3, 1e4, 5e4, 1e5],\n",
    "              'gamma': [0.0001, 0.0005, 0.001, 0.005, 0.01, 0.1], }\n",
    "#clf = GridSearchCV(SVC(kernel='rbf', class_weight='balanced'), param_grid, scoring='f1')   #Takes time. Didn't finish after 2 hours\n",
    "clf = SVC(kernel='rbf', class_weight='balanced')\n",
    "clf = clf.fit(X_train_pca, train_y)\n",
    "#print(\"Best estimator found by grid search:\")\n",
    "#print(clf.best_estimator_)\n",
    "svm_predictions = clf.predict(X_test_pca)\n",
    "\n",
    "svm_mc = matthews_corrcoef(svm_predictions, test_y)\n",
    "\n",
    "df = pd.DataFrame({\"a\":test_y,\"b\":svm_predictions})\n",
    "TP = ((df['a']==df['b']) & (df['a'] == 1)).astype(int).sum(); print('TP = ' + str(TP))\n",
    "FP = ((df['a']!=df['b']) & (df['a'] == 0)).astype(int).sum(); print('FP = ' + str(FP))\n",
    "FN = ((df['a']!=df['b']) & (df['a'] == 1)).astype(int).sum(); print('FN = ' + str(FN))\n",
    "TN = ((df['a']==df['b']) & (df['a'] == 0)).astype(int).sum(); print('TN = ' + str(TN))\n",
    "Accuracy = (TP+TN)/(TP+TN+FP+FN);print('Accuracy = ' + str(Accuracy))\n",
    "Precision = TP/(TP+FP); print('Precision = ' + str(Precision))\n",
    "Recall = TP/(TP+FN); print('Recall = ' + str(Recall))\n",
    "F1 = 2 * (Precision * Recall) / (Precision + Recall); print('F1 = ' + str(F1))\n",
    "\n",
    "print('\\nMatthews Correlation: ' + str(svm_mc))"
   ]
  },
  {
   "cell_type": "code",
   "execution_count": 23,
   "metadata": {},
   "outputs": [
    {
     "name": "stdout",
     "output_type": "stream",
     "text": [
      "[False False  True False False False False False False False False False\n",
      " False False False False False False False False False False False False\n",
      " False False False False False False False False False False False False\n",
      " False False False False False False False False False False False False\n",
      " False False False False False False False False False False False False\n",
      " False False False False False False False False False False False False\n",
      " False False False False False False False False False False False False\n",
      " False False False False False False False False False False False False\n",
      " False False False False False False False False False False False False\n",
      " False False False False False False False False False False False]\n"
     ]
    }
   ],
   "source": [
    "print(abs( pca.components_[0]>0.5)) #3rd component corresponds to 'ISK_PERSON' feature"
   ]
  },
  {
   "cell_type": "markdown",
   "metadata": {},
   "source": [
    "<b>SVM</b> produced the best results according to the requirement. <br>\n",
    "It produced a recall of 62% achieving an accuracy of ~72%, meaning it was able to capture almost 2/3rd of donors who would become multi-donors in the future while minimizing false positives as much as possible. <br>\n",
    "\n",
    "Next steps: <br>\n",
    "- Try to extract some more features using the LUF data.\n",
    "- Try other classifiers including Neural Network via Keras."
   ]
  },
  {
   "cell_type": "code",
   "execution_count": null,
   "metadata": {},
   "outputs": [],
   "source": []
  }
 ],
 "metadata": {
  "kernelspec": {
   "display_name": "Python 3",
   "language": "python",
   "name": "python3"
  },
  "language_info": {
   "codemirror_mode": {
    "name": "ipython",
    "version": 3
   },
   "file_extension": ".py",
   "mimetype": "text/x-python",
   "name": "python",
   "nbconvert_exporter": "python",
   "pygments_lexer": "ipython3",
   "version": "3.7.1"
  }
 },
 "nbformat": 4,
 "nbformat_minor": 2
}
